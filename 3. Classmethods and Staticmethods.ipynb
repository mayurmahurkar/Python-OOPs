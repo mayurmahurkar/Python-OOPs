{
 "cells": [
  {
   "cell_type": "markdown",
   "metadata": {},
   "source": [
    "# 3. Classmethods and Statisticmethods\n",
    "\n",
    "In our last lesson we looked at the difference between instance variables and class variables and in this lesson we'll be\n",
    "learning about the difference between regular methods, class methods and static methods."
   ]
  },
  {
   "cell_type": "markdown",
   "metadata": {},
   "source": [
    "## Classmethods"
   ]
  },
  {
   "cell_type": "code",
   "execution_count": 1,
   "metadata": {},
   "outputs": [],
   "source": [
    "#previously\n",
    "\n",
    "class Employee:\n",
    "    \n",
    "    num_of_emps = 0\n",
    "    raise_amount = 1.04  #class variable\n",
    "    \n",
    "    def __init__(self, first, last, pay):\n",
    "        self.first = first\n",
    "        self.last = last\n",
    "        self.pay = pay\n",
    "        self.email = first + '.' + last + '@company.com'\n",
    "        \n",
    "        Employee.num_of_emps += 1    #increment by 1 each time we create a new employee\n",
    "        \n",
    "    def full_name(self):\n",
    "        return '{} {}'.format(self.first,self.last)\n",
    "    \n",
    "    def apply_raise(self):\n",
    "        self.pay = int(self.pay * self.raise_amount)   # 4% raise by using class varibale raise_amount\n",
    "\n",
    "emp1 = Employee('Corey','Schafer',50000)\n",
    "emp2 = Employee('Test','User',60000)"
   ]
  },
  {
   "cell_type": "markdown",
   "metadata": {},
   "source": [
    "We learned in previously regular methods in a class automatically take the instance as the first argument and by convention we were calling this `self`.\n",
    "\n",
    "So if a regular method automatically takes in the instance as the first argument then how can we change this so that it instead automatically takes the class as the first argument? \n",
    "\n",
    "Now to do that we're going to use class methods and to turn a regular method into a class method. It's as easy as **adding a decorator** to the top called **class method**."
   ]
  },
  {
   "cell_type": "code",
   "execution_count": 2,
   "metadata": {},
   "outputs": [],
   "source": [
    "#classmethod\n",
    "\n",
    "class Employee:\n",
    "    \n",
    "    num_of_emps = 0\n",
    "    raise_amount = 1.04  #class variable\n",
    "    \n",
    "    def __init__(self, first, last, pay):\n",
    "        self.first = first\n",
    "        self.last = last\n",
    "        self.pay = pay\n",
    "        self.email = first + '.' + last + '@company.com'\n",
    "        \n",
    "        Employee.num_of_emps += 1    #increment by 1 each time we create a new employee\n",
    "        \n",
    "    def full_name(self):\n",
    "        return '{} {}'.format(self.first,self.last)\n",
    "    \n",
    "    def apply_raise(self):\n",
    "        self.pay = int(self.pay * self.raise_amount)   # 4% raise by using class varibale raise_amount\n",
    "        \n",
    "    @classmethod    #decorator\n",
    "    def set_raise_amt(cls,amount):\n",
    "        pass\n",
    "    \n",
    "\n",
    "emp1 = Employee('Corey','Schafer',50000)\n",
    "emp2 = Employee('Test','User',60000)"
   ]
  },
  {
   "cell_type": "markdown",
   "metadata": {},
   "source": [
    "- `set_raised_amt` method takes in the class and an amount. For now we'll just put in a `pass` statement. \n",
    "\n",
    "\n",
    "- This is altering the functionality of our method to where now we receive the class as our first argument instead of the instance. Now by convention with a regular method we called this instance variable `self` and there's a common convention for class variables too and that is `cls`.\n",
    "\n",
    "\n",
    "So now within this `set_raise_amt` method we are working with the class instead of the instance and to show you what it means let's go ahead and **set our class variable `raise_amount`**"
   ]
  },
  {
   "cell_type": "code",
   "execution_count": 3,
   "metadata": {},
   "outputs": [
    {
     "name": "stdout",
     "output_type": "stream",
     "text": [
      "1.04\n",
      "1.04\n",
      "1.04\n"
     ]
    }
   ],
   "source": [
    "#classmethod\n",
    "\n",
    "class Employee:\n",
    "    \n",
    "    num_of_emps = 0\n",
    "    raise_amount = 1.04  #class variable\n",
    "    \n",
    "    def __init__(self, first, last, pay):\n",
    "        self.first = first\n",
    "        self.last = last\n",
    "        self.pay = pay\n",
    "        self.email = first + '.' + last + '@company.com'\n",
    "        \n",
    "        Employee.num_of_emps += 1    #increment by 1 each time we create a new employee\n",
    "        \n",
    "    def full_name(self):\n",
    "        return '{} {}'.format(self.first,self.last)\n",
    "    \n",
    "    def apply_raise(self):\n",
    "        self.pay = int(self.pay * self.raise_amount)   # 4% raise by using class varibale raise_amount\n",
    "        \n",
    "    @classmethod    #decorator\n",
    "    def set_raise_amt(cls,amount):\n",
    "        cls.raise_amt = amount  #setting class variable\n",
    "    \n",
    "\n",
    "emp1 = Employee('Corey','Schafer',50000)\n",
    "emp2 = Employee('Test','User',60000)\n",
    "\n",
    "\n",
    "#printing pay for class and instances\n",
    "print(Employee.raise_amount)\n",
    "print(emp1.raise_amount)\n",
    "print(emp2.raise_amount)"
   ]
  },
  {
   "cell_type": "markdown",
   "metadata": {},
   "source": [
    "- Here we are printing class's raised amount as well as both instances raised amounts. So you can see that all of those are equal to 4%. The reason all those are equal to 4% again is because we have class variable `raise_amount = 1.04`.\n",
    "\n",
    "Now let's say that we wanted to change this to 5%. So before printing we could just use `set_raise_amt` method that we just created. "
   ]
  },
  {
   "cell_type": "code",
   "execution_count": 4,
   "metadata": {},
   "outputs": [
    {
     "name": "stdout",
     "output_type": "stream",
     "text": [
      "1.04\n",
      "1.04\n",
      "1.04\n"
     ]
    }
   ],
   "source": [
    "#classmethod\n",
    "\n",
    "class Employee:\n",
    "    \n",
    "    num_of_emps = 0\n",
    "    raise_amount = 1.04  #class variable\n",
    "    \n",
    "    def __init__(self, first, last, pay):\n",
    "        self.first = first\n",
    "        self.last = last\n",
    "        self.pay = pay\n",
    "        self.email = first + '.' + last + '@company.com'\n",
    "        \n",
    "        Employee.num_of_emps += 1    #increment by 1 each time we create a new employee\n",
    "        \n",
    "    def full_name(self):\n",
    "        return '{} {}'.format(self.first,self.last)\n",
    "    \n",
    "    def apply_raise(self):\n",
    "        self.pay = int(self.pay * self.raise_amount)   # 4% raise by using class varibale raise_amount\n",
    "        \n",
    "    @classmethod    #decorator\n",
    "    def set_raise_amt(cls,amount):\n",
    "        cls.raise_amt = amount  #setting class variable\n",
    "    \n",
    "\n",
    "emp1 = Employee('Corey','Schafer',50000)\n",
    "emp2 = Employee('Test','User',60000)\n",
    "\n",
    "\n",
    "Employee.set_raise_amt(1.05)  #passing the amount i.e., 5%\n",
    "\n",
    "\n",
    "#printing pay for class and instances\n",
    "print(Employee.raise_amount)\n",
    "print(emp1.raise_amount)\n",
    "print(emp2.raise_amount)"
   ]
  },
  {
   "cell_type": "markdown",
   "metadata": {},
   "source": [
    "- `Employee. set_raise_amt` automatically accepts the class so we don't have to pass that in. We can just pass in an amount so 5% here.\n",
    "\n",
    "\n",
    "- On printing, you can see that all are equal to 5%. The reason all those are equal to 5% is because we ran `set_raise_ amt()` method which is a class method which means that now we are working with the class (`cls`) instead of the instance (`self`) and we're setting that class variable `cls.raise_amt` equal to the `amount` that we passed in here which is 5%.\n",
    "\n",
    "\n",
    "- Thus, using `cls.raise_amt = amount` is the same thing as us saying `Employee.raise_amt = 1.05`. But now we are using this class method to do that instead."
   ]
  },
  {
   "cell_type": "markdown",
   "metadata": {},
   "source": [
    "You may also hear people say that they use class methods as alternative constructors. Now what do they mean by this ?\n",
    "\n",
    "So what they mean is that you can use these class methods in order to provide multiple ways of creating our objects so let's say that for example,\n",
    "\n",
    "We had someone who is using our `Employee` class and they said: Hey ! I have these specific cases where I'm getting employee information in the form of a string that is separated by hyphens and I'm constantly needing to parse the string before I create new employees. So is there a way to just pass in a string and create an employee from that ? \n",
    "\n",
    "We have an example down here to where we can see exactly what this problem would look like: "
   ]
  },
  {
   "cell_type": "code",
   "execution_count": 5,
   "metadata": {},
   "outputs": [
    {
     "name": "stdout",
     "output_type": "stream",
     "text": [
      "John.Doe@company.com\n",
      "70000\n"
     ]
    }
   ],
   "source": [
    "emp_str_1 = 'John-Doe-70000'\n",
    "emp_str_2 = 'Steve-Smith-30000'\n",
    "emp_str_3 = 'Jane-Doe-90000'\n",
    "\n",
    "first, last, pay = emp_str_1.split('-')   #splitting strings on hyphen -\n",
    "\n",
    "new_emp1 = Employee(first, last, pay)\n",
    "\n",
    "print(new_emp1.email)\n",
    "print(new_emp1.pay)"
   ]
  },
  {
   "cell_type": "markdown",
   "metadata": {},
   "source": [
    "- We have three strings here that are employees separated by hyphens where we have the first name, the last name and the salary. \n",
    "\n",
    "\n",
    "- Now if we wanted to create a new employee from these strings then what we would have to first do is to split this string on the hyphen (`-`) and then we'd have our first name, last name and our pay. And then based on those values we would be able to create a new employee by passing in those values.\n",
    "\n",
    "\n",
    "But if this is a common use case for how someone is using our class and we don't want them to have to parse these strings\n",
    "every time that they want to create a new employee. So let's just create an alternative constructor that allows them to pass in the string and we can create the employee for them."
   ]
  },
  {
   "cell_type": "code",
   "execution_count": 6,
   "metadata": {},
   "outputs": [
    {
     "name": "stdout",
     "output_type": "stream",
     "text": [
      "John.Doe@company.com\n",
      "70000\n"
     ]
    }
   ],
   "source": [
    "#classmethod\n",
    "\n",
    "class Employee:\n",
    "    \n",
    "    num_of_emps = 0\n",
    "    raise_amount = 1.04  #class variable\n",
    "    \n",
    "    def __init__(self, first, last, pay):\n",
    "        self.first = first\n",
    "        self.last = last\n",
    "        self.pay = pay\n",
    "        self.email = first + '.' + last + '@company.com'\n",
    "        \n",
    "        Employee.num_of_emps += 1    #increment by 1 each time we create a new employee\n",
    "        \n",
    "    def full_name(self):\n",
    "        return '{} {}'.format(self.first,self.last)\n",
    "    \n",
    "    def apply_raise(self):\n",
    "        self.pay = int(self.pay * self.raise_amount)   # 4% raise by using class varibale raise_amount\n",
    "        \n",
    "    @classmethod    #decorator\n",
    "    def set_raise_amt(cls,amount):\n",
    "        cls.raise_amt = amount  #setting class variable\n",
    "        \n",
    "        \n",
    "    @classmethod\n",
    "    def from_string(cls, emp_str):\n",
    "        first, last, pay = emp_str.split('-')\n",
    "        return cls(first, last, pay)\n",
    "        \n",
    "    \n",
    "\n",
    "emp1 = Employee('Corey','Schafer',50000)\n",
    "emp2 = Employee('Test','User',60000)\n",
    "\n",
    "\n",
    "emp_str_1 = 'John-Doe-70000'\n",
    "emp_str_2 = 'Steve-Smith-30000'\n",
    "emp_str_3 = 'Jane-Doe-90000'\n",
    "\n",
    "\n",
    "new_emp1 = Employee.from_string(emp_str_1)\n",
    "\n",
    "\n",
    "print(new_emp1.email)\n",
    "print(new_emp1.pay)"
   ]
  },
  {
   "cell_type": "markdown",
   "metadata": {},
   "source": [
    "- `cls(first, last, pay)` is going to create new employee by using the class and now that we've created that new employee, we also need to return it so that they can receive that employee object when this method is called.\n",
    "\n",
    "\n",
    "- Our alternative constructor is done here and now instead of someone needing to parse the string themselves we've provided them with this `from_string` method that they can call and you see here `Employee.from_string(emp_str_1)` that they are just passing in this `emp_str_1` and it comes in `def from_string(cls, emp_str):` and where it splits that string on the `-` and then creates a new employee object and then returns that employee object at `return cls(first, last, pay)`.\n",
    "\n",
    "\n",
    "So now we don't need to parse the strings anymore, we've provided them with a `from_string()` alternative constructor and now they can just pass in those strings and get their new employee objects.\n",
    "\n",
    "Thus, when people say that they use class methods as alternative constructors then this is what they mean.\n",
    "\n"
   ]
  },
  {
   "cell_type": "markdown",
   "metadata": {},
   "source": [
    "## Staticmethods\n",
    "\n",
    "Class's *regular methods automatically pass the instance as the first argument* and we call that `self` and *class methods automatically pass the class as the first argument* and we call that `CLS` and *static methods don't pass anything automatically* they don't pass the instance or the class so really they behave just like regular functions except we include them in our classes because they have some logical connection with the class.\n",
    "\n",
    "For example, let's say that we wanted **a simple function that would take in a date and return whether or not that was a workday**. So it has a logical connection to our employee class but it doesn't actually depend on any specific instance or class variable so instead we are going to make this a static method.\n",
    "\n",
    "Creating a static method is just as easy as a class method and we're also going to use a decorator `@staticmethod` and we will call this method as `is_workday()`."
   ]
  },
  {
   "cell_type": "code",
   "execution_count": 7,
   "metadata": {},
   "outputs": [],
   "source": [
    "#staticmethod\n",
    "\n",
    "class Employee:\n",
    "    \n",
    "    num_of_emps = 0\n",
    "    raise_amount = 1.04  #class variable\n",
    "    \n",
    "    def __init__(self, first, last, pay):\n",
    "        self.first = first\n",
    "        self.last = last\n",
    "        self.pay = pay\n",
    "        self.email = first + '.' + last + '@company.com'\n",
    "        \n",
    "        Employee.num_of_emps += 1    #increment by 1 each time we create a new employee\n",
    "        \n",
    "    def full_name(self):\n",
    "        return '{} {}'.format(self.first,self.last)\n",
    "    \n",
    "    def apply_raise(self):\n",
    "        self.pay = int(self.pay * self.raise_amount)   # 4% raise by using class varibale raise_amount\n",
    "        \n",
    "    @classmethod    #decorator\n",
    "    def set_raise_amt(cls,amount):\n",
    "        cls.raise_amt = amount  #setting class variable\n",
    "        \n",
    "        \n",
    "    @classmethod\n",
    "    def from_string(cls, emp_str):\n",
    "        first, last, pay = emp_str.split('-')\n",
    "        return cls(first, last, pay)\n",
    "        \n",
    "    @staticmethod\n",
    "    def is_workday(day):  #remember staticmethod don't take instance or class as the first argument \n",
    "        if day.weekday() == 5 or day.weekday() == 6:  #weekday is saturday (5) or sunday (6)\n",
    "            return False\n",
    "        return True   #if any other day\n",
    "\n",
    "emp1 = Employee('Corey','Schafer',50000)\n",
    "emp2 = Employee('Test','User',60000)"
   ]
  },
  {
   "cell_type": "markdown",
   "metadata": {},
   "source": [
    "-  Remember static methods don't take the instance or the class as the first argument, so we can just pass in the arguments that we want to work with i.e., `day` in our staticmethod `is_workday()`.\n",
    "\n",
    "\n",
    "-  Python dates have `weekday()` method where Monday is equal to 0 and Sunday is equal to 6. \n",
    "\n",
    "Let's go and see if our static method is working."
   ]
  },
  {
   "cell_type": "code",
   "execution_count": 8,
   "metadata": {},
   "outputs": [
    {
     "name": "stdout",
     "output_type": "stream",
     "text": [
      "True\n"
     ]
    }
   ],
   "source": [
    "import datetime\n",
    "my_date = datetime.date(2020,10,22)\n",
    "\n",
    "print(Employee.is_workday(my_date))"
   ]
  },
  {
   "cell_type": "markdown",
   "metadata": {},
   "source": [
    "Sometimes people write regularmethods or classmethods that actually should be staticmethods. Usually a giveaway that **a method should be a static method is if you don't access the instance or the class anywhere within the function**.\n",
    "\n",
    "For example, in class method `from_string()` you can see that we are using that class variable in line `return cls(first, last, pay)` but if I wasn't using it anywhere within that method then it probably doesn't need to be a classmethod. "
   ]
  },
  {
   "cell_type": "code",
   "execution_count": null,
   "metadata": {},
   "outputs": [],
   "source": []
  }
 ],
 "metadata": {
  "kernelspec": {
   "display_name": "Python 3",
   "language": "python",
   "name": "python3"
  },
  "language_info": {
   "codemirror_mode": {
    "name": "ipython",
    "version": 3
   },
   "file_extension": ".py",
   "mimetype": "text/x-python",
   "name": "python",
   "nbconvert_exporter": "python",
   "pygments_lexer": "ipython3",
   "version": "3.8.3"
  }
 },
 "nbformat": 4,
 "nbformat_minor": 4
}
