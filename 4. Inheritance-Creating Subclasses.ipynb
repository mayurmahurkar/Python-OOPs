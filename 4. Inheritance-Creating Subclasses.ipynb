{
 "cells": [
  {
   "cell_type": "markdown",
   "metadata": {},
   "source": [
    "# 4. Inheritance-Creating Subclasses\n",
    "\n",
    "In this lesson we'll be learning about Python class inheritance. Just like it sounds, inheritance allows us to inherit attributes and methods from a parent class now this is useful because we can create subclasses and get all the functionality of our parent class and then we can overwrite or add completely new functionality without affecting the parent class in any way.\n",
    "\n",
    "Let's look at an example of this:\n",
    "\n",
    "So far we've been working with this employee class. Now let's say that we wanted to get a little more specific here and create different types of employees. For example, we create developers and managers. These will be good candidates for subclasses because both developers and managers are going to have names, email addresses and a salary and those are all things that our\n",
    "`Employee` class already has so instead of copying all this code into our developer and manager subclasses we can just reuse\n",
    "that code by inheriting from `Employee`."
   ]
  },
  {
   "cell_type": "code",
   "execution_count": 1,
   "metadata": {},
   "outputs": [
    {
     "name": "stdout",
     "output_type": "stream",
     "text": [
      "Corey.Schafer@company.com\n",
      "Test.User@company.com\n"
     ]
    }
   ],
   "source": [
    "# Creating subclass\n",
    "\n",
    "class Employee:\n",
    "    \n",
    "    raise_amount = 1.04  #class variable\n",
    "    \n",
    "    def __init__(self, first, last, pay):\n",
    "        self.first = first\n",
    "        self.last = last\n",
    "        self.pay = pay\n",
    "        self.email = first + '.' + last + '@company.com'\n",
    "        \n",
    "    def full_name(self):\n",
    "        return '{} {}'.format(self.first,self.last)\n",
    "    \n",
    "    def apply_raise(self):\n",
    "        self.pay = int(self.pay * Employee.raise_amount)   # 4% raise by using class varibale raise_amount\n",
    "\n",
    "class Developer(Employee):  # creating a subclass Developer inheriting from Employee class\n",
    "    pass\n",
    "    \n",
    "        \n",
    "dev1 = Developer('Corey','Schafer',50000)\n",
    "dev2 = Developer('Test','User',60000)\n",
    "\n",
    "print(dev1.email)\n",
    "print(dev2.email)"
   ]
  },
  {
   "cell_type": "markdown",
   "metadata": {},
   "source": [
    "- Creating a subclass is as easy as creating a new class. we're calling this new class `Developer` and after the name of class we can put these parentheses `()` and specify what classes that we want to inherit from, so in this place we want to inherit from the `Employee` class.\n",
    "\n",
    "\n",
    "- We've put in simply a `pass` statement here for now so as to show that by simply inheriting from `Employee` class, we inherited all of its functionality. So right now even without any code of its own, the `Developer` class will have all of the attributes and methods of our `Employee` class.\n",
    "\n",
    "\n",
    "- Down there we have two instances of our employee class and then we are printing out both of their emails and you can see\n",
    "that when we create two new developers and pass in all of the informations and print out those emails, those two developers\n",
    "were created successfully and we can access the attributes that were actually set in our parent `Employee` class.\n",
    "\n",
    "\n",
    "\n",
    "- So what happened here is that when we instantiated our developers, it first looked in our `Developer` class for our `__init__` method and it's not going to find it within our `Developer` class because it's currently empty. So python is going to walk up\n",
    "this chain of inheritance until it finds what it's looking for. This chain is called the **method resolution order** \n",
    "\n",
    "`help()` is useful function here that makes these things a lot easier to visualize."
   ]
  },
  {
   "cell_type": "code",
   "execution_count": 2,
   "metadata": {},
   "outputs": [
    {
     "name": "stdout",
     "output_type": "stream",
     "text": [
      "Help on class Developer in module __main__:\n",
      "\n",
      "class Developer(Employee)\n",
      " |  Developer(first, last, pay)\n",
      " |  \n",
      " |  Method resolution order:\n",
      " |      Developer\n",
      " |      Employee\n",
      " |      builtins.object\n",
      " |  \n",
      " |  Methods inherited from Employee:\n",
      " |  \n",
      " |  __init__(self, first, last, pay)\n",
      " |      Initialize self.  See help(type(self)) for accurate signature.\n",
      " |  \n",
      " |  apply_raise(self)\n",
      " |  \n",
      " |  full_name(self)\n",
      " |  \n",
      " |  ----------------------------------------------------------------------\n",
      " |  Data descriptors inherited from Employee:\n",
      " |  \n",
      " |  __dict__\n",
      " |      dictionary for instance variables (if defined)\n",
      " |  \n",
      " |  __weakref__\n",
      " |      list of weak references to the object (if defined)\n",
      " |  \n",
      " |  ----------------------------------------------------------------------\n",
      " |  Data and other attributes inherited from Employee:\n",
      " |  \n",
      " |  raise_amount = 1.04\n",
      "\n",
      "None\n"
     ]
    }
   ],
   "source": [
    "print(help(Developer))"
   ]
  },
  {
   "cell_type": "markdown",
   "metadata": {},
   "source": [
    "- You can see that when we run `help()` on `Developer` class, we get all kinds of good information. \n",
    "\n",
    "\n",
    "- *Method resolution order* that we mentioned recently is one of the first things that gets printed out and basically these are the places that Python searches for attributes and methods.\n",
    "\n",
    "\n",
    "- So when we created our two new developers, it first looked at our `Developer` class for the `__init__` method and when it didn't find it there then it went up to the `Employee` class and it found it there so that's where it was executed.\n",
    "\n",
    "\n",
    "- If it hadn't found it in our `Employee` class then the last place that it would have looked is this object class and every class and Python inherits from this base object.\n",
    "\n",
    "\n",
    "-  If we look at this output further then it actually shows the methods that were inherited from `Employee` so you can see here that we have the `__init__` method and we also have `apply_raise` method and also `full_name` method.\n",
    "\n",
    "\n",
    "-  If we keep looking down then you can also see that we have our data and other attributes and there you can see that the class attribute `raise_amount` was also inherited from the `Employee` class."
   ]
  },
  {
   "cell_type": "markdown",
   "metadata": {},
   "source": [
    "Let's say that we wanted to customize our subclass a little bit now. "
   ]
  },
  {
   "cell_type": "code",
   "execution_count": 3,
   "metadata": {},
   "outputs": [
    {
     "name": "stdout",
     "output_type": "stream",
     "text": [
      "50000\n",
      "52000\n"
     ]
    }
   ],
   "source": [
    "# Creating subclass\n",
    "\n",
    "class Employee:\n",
    "    \n",
    "    raise_amount = 1.04  #class variable\n",
    "    \n",
    "    def __init__(self, first, last, pay):\n",
    "        self.first = first\n",
    "        self.last = last\n",
    "        self.pay = pay\n",
    "        self.email = first + '.' + last + '@company.com'\n",
    "        \n",
    "    def full_name(self):\n",
    "        return '{} {}'.format(self.first,self.last)\n",
    "    \n",
    "    def apply_raise(self):\n",
    "        self.pay = int(self.pay * Employee.raise_amount)   # 4% raise by using class varibale raise_amount\n",
    "\n",
    "class Developer(Employee):  # creating a subclass Developer inheriting from Employee class\n",
    "    pass\n",
    "    \n",
    "        \n",
    "dev1 = Developer('Corey','Schafer',50000)\n",
    "dev2 = Developer('Test','User',60000)\n",
    "\n",
    "print(dev1.pay)\n",
    "dev1.apply_raise()\n",
    "print(dev1.pay)"
   ]
  },
  {
   "cell_type": "markdown",
   "metadata": {},
   "source": [
    "Let's say that we wanted our developers to have a raise amount of 10%. "
   ]
  },
  {
   "cell_type": "code",
   "execution_count": 4,
   "metadata": {},
   "outputs": [
    {
     "name": "stdout",
     "output_type": "stream",
     "text": [
      "50000\n",
      "52000\n"
     ]
    }
   ],
   "source": [
    "# Creating subclass\n",
    "\n",
    "class Employee:\n",
    "    \n",
    "    raise_amount = 1.04  #class variable\n",
    "    \n",
    "    def __init__(self, first, last, pay):\n",
    "        self.first = first\n",
    "        self.last = last\n",
    "        self.pay = pay\n",
    "        self.email = first + '.' + last + '@company.com'\n",
    "        \n",
    "    def full_name(self):\n",
    "        return '{} {}'.format(self.first,self.last)\n",
    "    \n",
    "    def apply_raise(self):\n",
    "        self.pay = int(self.pay * Employee.raise_amount)   # 4% raise by using class varibale raise_amount\n",
    "\n",
    "class Developer(Employee):  # creating a subclass Developer inheriting from Employee class\n",
    "    raise_amount = 1.10  #setting raise amount for developer to 10%\n",
    "    \n",
    "        \n",
    "dev1 = Employee('Corey','Schafer',50000)  #changed developer class to Employee i.e, parent class\n",
    "dev2 = Developer('Test','User',60000)\n",
    "\n",
    "print(dev1.pay)\n",
    "dev1.apply_raise()\n",
    "print(dev1.pay)"
   ]
  },
  {
   "cell_type": "markdown",
   "metadata": {},
   "source": [
    "- To change that it's just as easy as coming into our `Developer` class and changing the raise_amount to 10% i.e., adding the line `raise_amount = 1.10` inside our `Developer` class.\n",
    "\n",
    "\n",
    "- If we change the instance back to an employee instead of a developer i.e., `dev1 = Employee('Corey','Schafer',50000)` then you can see that now it's back to `Employee`'s 4% amount. \n",
    "\n",
    "So the take away from this is that by changing the `raise_amount` in our subclass which is `Developer`, it didn't have any effect on any of our `Employee` instances. So they still have that `raise_amount` of 4%. Thus, **we can make changes to our subclasses without worrying about breaking anything in the parent class.**   "
   ]
  },
  {
   "cell_type": "markdown",
   "metadata": {},
   "source": [
    "Now we'll make a few more complicated changes.\n",
    "\n",
    "Sometimes we want to initiate our subclasses with more information than our parent class can handle so what do I mean by that so let's say that when we created our `Developer` we wanted to also pass in their main programming language as an attribute but currently our `Employee` class only accepts `first` name `last` name and `pay`. So if we also wanted to pass in a programming language there then we have to give the developer class its own `__init__` method. "
   ]
  },
  {
   "cell_type": "code",
   "execution_count": 5,
   "metadata": {},
   "outputs": [
    {
     "name": "stdout",
     "output_type": "stream",
     "text": [
      "Corey.Schafer@company.com\n",
      "Python\n"
     ]
    }
   ],
   "source": [
    "# Creating subclass\n",
    "\n",
    "class Employee:\n",
    "    \n",
    "    raise_amount = 1.04  #class variable\n",
    "    \n",
    "    def __init__(self, first, last, pay):\n",
    "        self.first = first\n",
    "        self.last = last\n",
    "        self.pay = pay\n",
    "        self.email = first + '.' + last + '@company.com'\n",
    "        \n",
    "    def full_name(self):\n",
    "        return '{} {}'.format(self.first,self.last)\n",
    "    \n",
    "    def apply_raise(self):\n",
    "        self.pay = int(self.pay * Employee.raise_amount)   # 4% raise by using class varibale raise_amount\n",
    "\n",
    "class Developer(Employee):  # creating a subclass Developer inheriting from Employee class\n",
    "    raise_amount = 1.10  # setting raise amount for developer to 10%\n",
    "    \n",
    "    def __init__(self, first, last, pay, prog_lang):\n",
    "#         super().__init__(first, last, pay)\n",
    "        Employee.__init__(self, first, last, pay) # copying the __init__ method of parent class Employee\n",
    "        self.prog_lang = prog_lang\n",
    "        \n",
    "dev1 = Developer('Corey','Schafer',50000, 'Python')  # passing the programming language\n",
    "dev2 = Developer('Test','User',60000, 'Java')\n",
    "\n",
    "\n",
    "print(dev1.email)\n",
    "print(dev1.prog_lang)"
   ]
  },
  {
   "cell_type": "markdown",
   "metadata": {},
   "source": [
    "- Another way of calling parent class's `__init__` method is is `super().__init__(first, last, pay)`. \n",
    "\n",
    "\n",
    "- Now, both of these ways of calling the parent's `__init__` method will work but we tend to use `super` because it's really necessary once you start using multiple inheritance as `super` is bit more maintainable. \n",
    "\n",
    "\n",
    "-  if we print `dev1`'s email and programming language, then you can see that both of those were set correctly.\n",
    "\n",
    "\n",
    "We can see why this sub classing is useful because just by adding in that one little line `Employee.__init__(self, first, last, pay)` or `super().__init__(first, last, pay)`, we got all of code from our `Employee` class for free.\n",
    "\n",
    "Let's create another subclass called `Manager`"
   ]
  },
  {
   "cell_type": "code",
   "execution_count": 6,
   "metadata": {},
   "outputs": [],
   "source": [
    "# Creating subclass\n",
    "\n",
    "class Employee:\n",
    "    \n",
    "    raise_amount = 1.04  #class variable\n",
    "    \n",
    "    def __init__(self, first, last, pay):\n",
    "        self.first = first\n",
    "        self.last = last\n",
    "        self.pay = pay\n",
    "        self.email = first + '.' + last + '@company.com'\n",
    "        \n",
    "    def full_name(self):\n",
    "        return '{} {}'.format(self.first,self.last)\n",
    "    \n",
    "    def apply_raise(self):\n",
    "        self.pay = int(self.pay * Employee.raise_amount)   # 4% raise by using class varibale raise_amount\n",
    "\n",
    "class Developer(Employee):  # creating a subclass Developer inheriting from Employee class\n",
    "    raise_amount = 1.10  # setting raise amount for developer to 10%\n",
    "    \n",
    "    def __init__(self, first, last, pay, prog_lang):\n",
    "        super().__init__(first, last, pay)\n",
    "        self.prog_lang = prog_lang\n",
    "\n",
    "class Manager(Employee):\n",
    "    \n",
    "    def __init__(self, first, last, pay, employees = None):  # set the default list of employees under manager to none\n",
    "        super().__init__(first, last, pay)\n",
    "        if employees is None:      # passing in a list of employees that this manager supervises\n",
    "            self.employees = []    # empty list if the argument is not provided\n",
    "        else:\n",
    "            self.employees = employees   # set them equal to that employees list if provided\n",
    "            \n",
    "    def add_emp(self,emp):      # giving option to add from our list of employees that our manager supervises \n",
    "        if emp not in self.employees:\n",
    "            self.employees.append(emp)\n",
    "    \n",
    "    def remove_emp(self,emp):   # giving option to remove from our list of employees that our manager supervises\n",
    "        if emp in self.employees:\n",
    "            self.employees.remove(emp)\n",
    "            \n",
    "    def print_emps(self):   # method that will print all employees that manager supervises\n",
    "        for emp in self.employees:\n",
    "            print('-->', emp.full_name())  # print the employee full-name\n",
    "        \n",
    "        \n",
    "dev1 = Developer('Corey','Schafer',50000, 'Python')  # passing the programming language\n",
    "dev2 = Developer('Test','User',60000, 'Java')"
   ]
  },
  {
   "cell_type": "code",
   "execution_count": 7,
   "metadata": {},
   "outputs": [
    {
     "name": "stdout",
     "output_type": "stream",
     "text": [
      "Sue.Smith@company.com\n"
     ]
    }
   ],
   "source": [
    "# Let's check if our subclass manager is working fine\n",
    "\n",
    "mgr1 = Manager('Sue','Smith',90000,[dev1])    # create a new manager, supervises first developer\n",
    "\n",
    "print(mgr1.email)"
   ]
  },
  {
   "cell_type": "code",
   "execution_count": 8,
   "metadata": {},
   "outputs": [
    {
     "name": "stdout",
     "output_type": "stream",
     "text": [
      "Sue.Smith@company.com\n",
      "--> Corey Schafer\n"
     ]
    }
   ],
   "source": [
    "# testing additional features\n",
    "\n",
    "mgr1 = Manager('Sue','Smith',90000,[dev1])    # create a new manager, supervises first developer\n",
    "\n",
    "print(mgr1.email)\n",
    "\n",
    "mgr1.print_emps()  #printing all the employees that this manager supervises"
   ]
  },
  {
   "cell_type": "code",
   "execution_count": 9,
   "metadata": {},
   "outputs": [
    {
     "name": "stdout",
     "output_type": "stream",
     "text": [
      "Sue.Smith@company.com\n",
      "--> Corey Schafer\n",
      "--> Test User\n"
     ]
    }
   ],
   "source": [
    "# testing additional features\n",
    "\n",
    "mgr1 = Manager('Sue','Smith',90000,[dev1])    # create a new manager, supervises first developer\n",
    "\n",
    "print(mgr1.email)\n",
    "\n",
    "mgr1.add_emp(dev2)  #adding employee\n",
    "\n",
    "mgr1.print_emps()  #printing all the employees that this manager supervises"
   ]
  },
  {
   "cell_type": "code",
   "execution_count": 10,
   "metadata": {},
   "outputs": [
    {
     "name": "stdout",
     "output_type": "stream",
     "text": [
      "Sue.Smith@company.com\n",
      "--> Test User\n"
     ]
    }
   ],
   "source": [
    "# testing additional features\n",
    "\n",
    "mgr1 = Manager('Sue','Smith',90000,[dev1])    # create a new manager, supervises first developer\n",
    "\n",
    "print(mgr1.email)\n",
    "\n",
    "mgr1.add_emp(dev2)  #adding employee\n",
    "\n",
    "mgr1.remove_emp(dev1) #removing employee\n",
    "\n",
    "mgr1.print_emps()  #printing all the employees that this manager supervises"
   ]
  },
  {
   "cell_type": "markdown",
   "metadata": {},
   "source": [
    "A couple more helpful things python has are two built-in functions called `isinstance()` and `issubclass()`.\n",
    "\n",
    "**`isinstance()` will tell us if an object is an instance of a class.** "
   ]
  },
  {
   "cell_type": "code",
   "execution_count": 11,
   "metadata": {},
   "outputs": [
    {
     "name": "stdout",
     "output_type": "stream",
     "text": [
      "True\n"
     ]
    }
   ],
   "source": [
    "print(isinstance(mgr1, Manager))  # check whether mgr1 is an instance of Manager "
   ]
  },
  {
   "cell_type": "code",
   "execution_count": 12,
   "metadata": {},
   "outputs": [
    {
     "name": "stdout",
     "output_type": "stream",
     "text": [
      "True\n"
     ]
    }
   ],
   "source": [
    "print(isinstance(mgr1, Employee))    # check whether mgr1 is an instance of Employee"
   ]
  },
  {
   "cell_type": "code",
   "execution_count": 13,
   "metadata": {},
   "outputs": [
    {
     "name": "stdout",
     "output_type": "stream",
     "text": [
      "False\n"
     ]
    }
   ],
   "source": [
    "print(isinstance(mgr1, Developer))    # check whether mgr1 is an instance of Developer"
   ]
  },
  {
   "cell_type": "markdown",
   "metadata": {},
   "source": [
    "So even though `Developer` and `Manager` both inherit from `Employee` they aren't part of each other's inheritance.\n",
    "\n",
    "Similarly, we **`issubclass()` function will tell us if a class is a subclass of another.**"
   ]
  },
  {
   "cell_type": "code",
   "execution_count": 14,
   "metadata": {},
   "outputs": [
    {
     "name": "stdout",
     "output_type": "stream",
     "text": [
      "True\n"
     ]
    }
   ],
   "source": [
    "print(issubclass(Developer, Employee))  # is developer a subclass of employee"
   ]
  },
  {
   "cell_type": "code",
   "execution_count": 15,
   "metadata": {},
   "outputs": [
    {
     "name": "stdout",
     "output_type": "stream",
     "text": [
      "True\n"
     ]
    }
   ],
   "source": [
    "print(issubclass(Manager, Employee))    # is manager a subclass of employee"
   ]
  },
  {
   "cell_type": "code",
   "execution_count": 16,
   "metadata": {},
   "outputs": [
    {
     "name": "stdout",
     "output_type": "stream",
     "text": [
      "False\n"
     ]
    }
   ],
   "source": [
    "print(issubclass(Manager, Developer))   # is manager a subclass of developer"
   ]
  },
  {
   "cell_type": "code",
   "execution_count": null,
   "metadata": {},
   "outputs": [],
   "source": []
  }
 ],
 "metadata": {
  "kernelspec": {
   "display_name": "Python 3",
   "language": "python",
   "name": "python3"
  },
  "language_info": {
   "codemirror_mode": {
    "name": "ipython",
    "version": 3
   },
   "file_extension": ".py",
   "mimetype": "text/x-python",
   "name": "python",
   "nbconvert_exporter": "python",
   "pygments_lexer": "ipython3",
   "version": "3.8.3"
  }
 },
 "nbformat": 4,
 "nbformat_minor": 4
}
