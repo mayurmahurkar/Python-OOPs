{
 "cells": [
  {
   "cell_type": "markdown",
   "metadata": {},
   "source": [
    "# 1. Introduction \n",
    "\n",
    "## Classes\n",
    "\n",
    "- Classes allow us to Logically group our data and functions in a way that's easy to reuse and also easy to build upon if needed\n",
    "\n",
    "\n",
    "- *data* and *functions* that are associated with a specific class, are called **attributes** and **methods** respectively. You'll hear these terms a lot throughout these lessons. \n",
    "\n",
    "\n",
    "- So **method is a function associated with a class**\n",
    "\n",
    "\n",
    "- Say we had an application for our company and we wanted to represent our employees in our python code. Now this would be a great use case for a class because each individual employee is going to have specific attributes and methods. For example, each employee is going to have a name, email address, a pay and also actions that they can perform.\n",
    "\n",
    "\n",
    "- It'd be nice if we had a class that we could use as a blueprint to create each employee so that we didn't have to do this manually each time from scratch. "
   ]
  },
  {
   "cell_type": "markdown",
   "metadata": {},
   "source": [
    "Let's go ahead and create a simple `Employee` class and see what that would look like. So to create a class"
   ]
  },
  {
   "cell_type": "code",
   "execution_count": 1,
   "metadata": {},
   "outputs": [],
   "source": [
    "class Employee:\n",
    "    pass"
   ]
  },
  {
   "cell_type": "markdown",
   "metadata": {},
   "source": [
    "<div class=\"alert alert-block alert-warning\">\n",
    "<b>NOTE:</b> \n",
    "\n",
    "If you ever have a class or a function that you want to leave empty for the time being then you can simply put in a `pass` statement and python will know that you just want to skip that for now. If you leave the class empty you will get an error.\n",
    "    \n",
    "</div>"
   ]
  },
  {
   "cell_type": "markdown",
   "metadata": {},
   "source": [
    "So now we have a simple `Employee` class with no attributes or methods and we wanted to stop here so as to explain the difference between a **class** and an **instance of a class**. \n",
    "\n",
    "Our **class is basically a blueprint for creating instances** and each unique employee that we create using our `Employee` class will be an instance of that class.\n",
    "\n",
    "For example,"
   ]
  },
  {
   "cell_type": "code",
   "execution_count": 2,
   "metadata": {},
   "outputs": [],
   "source": [
    "emp1 = Employee()\n",
    "emp2 = Employee()"
   ]
  },
  {
   "cell_type": "markdown",
   "metadata": {},
   "source": [
    "- Then each of these `emp1` and `emp2` are going to be their own unique instances of the `Employee` class.\n",
    "\n",
    "Let's go ahead and print both of these out."
   ]
  },
  {
   "cell_type": "code",
   "execution_count": 3,
   "metadata": {},
   "outputs": [
    {
     "name": "stdout",
     "output_type": "stream",
     "text": [
      "<__main__.Employee object at 0x000001B05E2A9EE0>\n",
      "<__main__.Employee object at 0x000001B05E2A96D0>\n"
     ]
    }
   ],
   "source": [
    "print(emp1)\n",
    "print(emp2)"
   ]
  },
  {
   "cell_type": "markdown",
   "metadata": {},
   "source": [
    "- You can see that both of these are `Employee` objects, and they're both unique. They both have different locations here in memory now. \n",
    "\n",
    "This is an important distinction because you'll be hearing this a lot about instance variables and class variables and it's important to know the difference between those as we go more in depth into class variables in the upcoming lessons."
   ]
  },
  {
   "cell_type": "markdown",
   "metadata": {},
   "source": [
    "For this lesson, we're going to be looking at instance variables. So **instance variables contain Data that is unique to each instance**. Now we could manually create instance variables for each employee by doing something like this"
   ]
  },
  {
   "cell_type": "code",
   "execution_count": 4,
   "metadata": {},
   "outputs": [],
   "source": [
    "emp1.first = 'Mayur'\n",
    "emp1.last = 'Mahurkar'\n",
    "emp1.email = 'mayur.mahurkar@company.com'\n",
    "emp1.pay = 50000\n",
    "\n",
    "emp2.first = 'Test'\n",
    "emp2.last = 'User'\n",
    "emp2.email = 'test.user@company.com'\n",
    "emp2.pay = 60000"
   ]
  },
  {
   "cell_type": "markdown",
   "metadata": {},
   "source": [
    "- Now each of these instances have attributes that are unique to them and if we print them out"
   ]
  },
  {
   "cell_type": "code",
   "execution_count": 5,
   "metadata": {},
   "outputs": [
    {
     "name": "stdout",
     "output_type": "stream",
     "text": [
      "mayur.mahurkar@company.com\n",
      "test.user@company.com\n"
     ]
    }
   ],
   "source": [
    "print(emp1.email)\n",
    "print(emp2.email)"
   ]
  },
  {
   "cell_type": "markdown",
   "metadata": {},
   "source": [
    " - You can see that that `email` was created for each employee. \n",
    "\n",
    "Let's say that we wanted to set all of these information for each employee when they're created rather than doing all of these manually, like we did above. So we wouldn't want to have to manually set these variables every time as it may be a lot of code and it's also prone to mistakes.\n",
    "\n",
    "To set up automatically when we create the `Employee` we're going to use a special `__init__` method inside of our `Employee` class.\n",
    "\n",
    "You can think of this method as initialize or constructor if you're coming from another language."
   ]
  },
  {
   "cell_type": "code",
   "execution_count": 6,
   "metadata": {},
   "outputs": [],
   "source": [
    "class Employee:\n",
    "    def __init__(self, first, last, pay):\n",
    "        self.first = first\n",
    "        self.last = last\n",
    "        self.pay = pay\n",
    "        self.email = first + '.' + last + '@company.com'"
   ]
  },
  {
   "cell_type": "markdown",
   "metadata": {},
   "source": [
    "- When we create methods within a class they receive the instance as the first argument automatically and by convention. We should call the instance `self` now. You can call it whatever you want but it's a good idea to stick to convention here and just use `self`.\n",
    "\n",
    "\n",
    "- After `self` we can specify what other arguments that we want to accept like the `first` name, the `last` name and the `pay`. \n",
    "\n",
    "\n",
    "- we can create the `email` using the first name and the last name within our and `__init__` method. \n",
    "\n",
    "\n",
    "Whenever we say that, **`self` is the instance**, what we mean by that ?\n",
    "\n",
    "It means that when we use `self.first = first` it's going to be the same thing as saying `emp1.first = 'Corey`, except now instead of doing this manually it'll be done automatically when we create our `Employee` objects."
   ]
  },
  {
   "cell_type": "markdown",
   "metadata": {},
   "source": [
    "So now when we create our instances of our `Employee` class, we can pass in the values that we specified in our `__init__` method. "
   ]
  },
  {
   "cell_type": "code",
   "execution_count": 7,
   "metadata": {},
   "outputs": [],
   "source": [
    "emp1 = Employee('Mayur','Mahurkar',50000)\n",
    "emp2 = Employee('Test','User',60000)"
   ]
  },
  {
   "cell_type": "markdown",
   "metadata": {},
   "source": [
    "- The `__init__` method takes the instance which we call `self` and the `first` name, `last` name and `Pay` as arguments, but when we create our employees `emp1` and `emp2` here the instance is passed automatically, so we can leave off `self` we only need to provide the names and the pay."
   ]
  },
  {
   "cell_type": "markdown",
   "metadata": {},
   "source": [
    "So **what happens on the line `emp1 = Employee('Mayur','Mahurkar',50000)` ?**\n",
    "\n",
    "When we create `emp1` the `__init__` method will be run automatically, so `emp1` will be passed in as `self` and then it will set all of the attributes, so it'll set `emp1.first = first` which we passed in as query in the place of `first` then `emp1.last = last` what we passed in as `last` and so on. \n",
    "\n",
    "Let's print and see if it works."
   ]
  },
  {
   "cell_type": "code",
   "execution_count": 8,
   "metadata": {},
   "outputs": [
    {
     "name": "stdout",
     "output_type": "stream",
     "text": [
      "Mayur.Mahurkar@company.com\n",
      "Test.User@company.com\n"
     ]
    }
   ],
   "source": [
    "print(emp1.email)\n",
    "print(emp2.email)"
   ]
  },
  {
   "cell_type": "markdown",
   "metadata": {},
   "source": [
    "So everything that we have seen so far like the names and email and the pay are all attributes of our class now. "
   ]
  },
  {
   "cell_type": "markdown",
   "metadata": {},
   "source": [
    "Let's say that we want the ability to display the full name of an employee now. We can do this manually outside the class like this:"
   ]
  },
  {
   "cell_type": "code",
   "execution_count": 9,
   "metadata": {},
   "outputs": [
    {
     "name": "stdout",
     "output_type": "stream",
     "text": [
      "Mayur Mahurkar\n"
     ]
    }
   ],
   "source": [
    "print('{} {}'.format(emp1.first,emp1.last))"
   ]
  },
  {
   "cell_type": "markdown",
   "metadata": {},
   "source": [
    "But that's a lot of typing for each time where you want to display the employee's full name for many employees, so instead let's create a method within our class that allows us to put this functionality in one place. \n",
    "\n",
    "So within our class `Employee`, we are going to create a method called `full_name` and we can do that with `def fullname()`."
   ]
  },
  {
   "cell_type": "code",
   "execution_count": 10,
   "metadata": {},
   "outputs": [],
   "source": [
    "class Employee:\n",
    "    def __init__(self, first, last, pay):\n",
    "        self.first = first\n",
    "        self.last = last\n",
    "        self.pay = pay\n",
    "        self.email = first + '.' + last + '@company.com'\n",
    "        \n",
    "    def full_name(self):\n",
    "        return '{} {}'.format(self.first,self.last)"
   ]
  },
  {
   "cell_type": "code",
   "execution_count": 11,
   "metadata": {},
   "outputs": [],
   "source": [
    "emp1 = Employee('Mayur','Mahurkar',50000)\n",
    "emp2 = Employee('Test','User',60000)"
   ]
  },
  {
   "cell_type": "markdown",
   "metadata": {},
   "source": [
    "- Each method wihin a class automatically takes the instance as the first argument and we always call that `self` and the instance is the only argument that we'll need in order to get the full name.\n",
    "\n",
    "\n",
    "- We have to be careful here because now instead of `emp1.first` name and `emp1.last`, we are going to use `self` so that it will work with all instances. \n",
    "\n",
    "So now that we created that method instead of printing like we did before now we can simply print full name using:"
   ]
  },
  {
   "cell_type": "code",
   "execution_count": 12,
   "metadata": {},
   "outputs": [
    {
     "name": "stdout",
     "output_type": "stream",
     "text": [
      "Mayur Mahurkar\n"
     ]
    }
   ],
   "source": [
    "print(emp1.full_name())"
   ]
  },
  {
   "cell_type": "markdown",
   "metadata": {},
   "source": [
    "- Notice that **we need the parentheses `()` here because this is a method instead of an attribute**. \n",
    "\n",
    "So instead of typing out for each full name that we wanted to print, now we can just use the method. Let's say if we wanted to print employee two's full name, it's just as easy as replacing `empl1` with `empl2`."
   ]
  },
  {
   "cell_type": "code",
   "execution_count": 13,
   "metadata": {},
   "outputs": [
    {
     "name": "stdout",
     "output_type": "stream",
     "text": [
      "Test User\n"
     ]
    }
   ],
   "source": [
    "print(emp2.full_name())"
   ]
  },
  {
   "cell_type": "markdown",
   "metadata": {},
   "source": [
    "<div class=\"alert alert-block alert-warning\">\n",
    "<b>NOTE:</b> \n",
    "\n",
    "One common mistake that when creating methods is **forgetting the `self` argument** for the instance. \n",
    "    \n",
    "</div>    "
   ]
  },
  {
   "cell_type": "markdown",
   "metadata": {},
   "source": [
    "Let's take a quick look at what that would look like if we left `self` off. "
   ]
  },
  {
   "cell_type": "code",
   "execution_count": 14,
   "metadata": {},
   "outputs": [],
   "source": [
    "class Employee:\n",
    "    def __init__(self, first, last, pay):\n",
    "        self.first = first\n",
    "        self.last = last\n",
    "        self.pay = pay\n",
    "        self.email = first + '.' + last + '@company.com'\n",
    "        \n",
    "    def full_name():\n",
    "        return '{} {}'.format(self.first,self.last)\n",
    "\n",
    "emp1 = Employee('Mayur','Mahurkar',50000)\n",
    "emp2 = Employee('Test','User',60000)"
   ]
  },
  {
   "cell_type": "markdown",
   "metadata": {},
   "source": [
    "- Now you can see that this runs without any errors. But if we were to try to run this method `full_name` where we accidentally left `self` off then we get an error. "
   ]
  },
  {
   "cell_type": "code",
   "execution_count": 15,
   "metadata": {},
   "outputs": [
    {
     "ename": "TypeError",
     "evalue": "full_name() takes 0 positional arguments but 1 was given",
     "output_type": "error",
     "traceback": [
      "\u001b[1;31m---------------------------------------------------------------------------\u001b[0m",
      "\u001b[1;31mTypeError\u001b[0m                                 Traceback (most recent call last)",
      "\u001b[1;32m<ipython-input-15-d27a3282cad4>\u001b[0m in \u001b[0;36m<module>\u001b[1;34m\u001b[0m\n\u001b[1;32m----> 1\u001b[1;33m \u001b[0mprint\u001b[0m\u001b[1;33m(\u001b[0m\u001b[0memp2\u001b[0m\u001b[1;33m.\u001b[0m\u001b[0mfull_name\u001b[0m\u001b[1;33m(\u001b[0m\u001b[1;33m)\u001b[0m\u001b[1;33m)\u001b[0m\u001b[1;33m\u001b[0m\u001b[1;33m\u001b[0m\u001b[0m\n\u001b[0m",
      "\u001b[1;31mTypeError\u001b[0m: full_name() takes 0 positional arguments but 1 was given"
     ]
    }
   ],
   "source": [
    "print(emp2.full_name())"
   ]
  },
  {
   "cell_type": "markdown",
   "metadata": {},
   "source": [
    "- The error that we got was a `TypeError: full_name() takes 0 positional arguments but 1 was given` \n",
    "\n",
    "\n",
    "- Now this can be confusing because it doesn't look like we're passing any arguments into `full_name` but the instance which in this case is `emp2` is getting passed automatically, so we have to expect instance argument in our method, and that's why we add `self`."
   ]
  },
  {
   "cell_type": "code",
   "execution_count": 16,
   "metadata": {},
   "outputs": [],
   "source": [
    "class Employee:\n",
    "    def __init__(self, first, last, pay):\n",
    "        self.first = first\n",
    "        self.last = last\n",
    "        self.pay = pay\n",
    "        self.email = first + '.' + last + '@company.com'\n",
    "        \n",
    "    def full_name(self):\n",
    "        return '{} {}'.format(self.first,self.last)\n",
    "\n",
    "emp1 = Employee('Mayur','Mahurkar',50000)\n",
    "emp2 = Employee('Test','User',60000)"
   ]
  },
  {
   "cell_type": "code",
   "execution_count": 17,
   "metadata": {},
   "outputs": [
    {
     "data": {
      "text/plain": [
       "'Mayur Mahurkar'"
      ]
     },
     "execution_count": 17,
     "metadata": {},
     "output_type": "execute_result"
    }
   ],
   "source": [
    "emp1.full_name()"
   ]
  },
  {
   "cell_type": "markdown",
   "metadata": {},
   "source": [
    "We can also run these methods using the class name itself which makes it a bit more obvious of what's going on in the background but when we run it from the class we have to manually pass in the instance as an argument. So in this case, we'll pass `emp1` "
   ]
  },
  {
   "cell_type": "code",
   "execution_count": 18,
   "metadata": {},
   "outputs": [
    {
     "name": "stdout",
     "output_type": "stream",
     "text": [
      "Mayur Mahurkar\n"
     ]
    }
   ],
   "source": [
    "print(Employee.full_name(emp1))"
   ]
  },
  {
   "cell_type": "markdown",
   "metadata": {},
   "source": [
    "So the above two lines do the exact same thing, but in `emp1.full_name()`, `emp1` which is an instance and then we call the method on it, we don't need to pass in `self`, python does it automatically.  \n",
    "\n",
    "And when we call the method on the class i.e, `Employee.full_name(emp1)`, it doesn't know what instance we want to run that method with. So we do have to pass in the instance and that gets passed in as `self`. And then if we go ahead and print this out in `print(Employee.full_name(emp1))` and run it then we can see that it works just like if we were to print out the `emp1.full_name()` \n",
    "\n",
    "\n",
    "This actually show you what's going on in the background. When we run `emp1.full_name` it gets transformed into `Employee.full_name(emp1)` and passes in `emp1` as `self` and that's why we have `self` for these methods. "
   ]
  }
 ],
 "metadata": {
  "kernelspec": {
   "display_name": "Python 3",
   "language": "python",
   "name": "python3"
  },
  "language_info": {
   "codemirror_mode": {
    "name": "ipython",
    "version": 3
   },
   "file_extension": ".py",
   "mimetype": "text/x-python",
   "name": "python",
   "nbconvert_exporter": "python",
   "pygments_lexer": "ipython3",
   "version": "3.8.3"
  }
 },
 "nbformat": 4,
 "nbformat_minor": 4
}
