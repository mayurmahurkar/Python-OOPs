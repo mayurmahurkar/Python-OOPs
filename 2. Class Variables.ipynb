{
 "cells": [
  {
   "cell_type": "markdown",
   "metadata": {},
   "source": [
    "# 2. Class variables\n",
    "\n",
    "In the first lesson we  learned how to create a simple class and how to create instances of that class. We learned a lot about intsnace variables which are used for data that is uniue to each instance. So instance variables are set using the `self` argument. For example in the `Employee` class that we created we set the name, the email and the pay in our `__init__` method and those are set for each instance of the employee that we create. \n",
    "\n",
    "Now, class variables are variables that are shared among all instances of a class. So while instance variables can be unique for each instance like our name, email and pay; class variables should be the same for each instance. "
   ]
  },
  {
   "cell_type": "code",
   "execution_count": 1,
   "metadata": {},
   "outputs": [],
   "source": [
    "#previously in lesson 1\n",
    "\n",
    "class Employee:\n",
    "    def __init__(self, first, last, pay):\n",
    "        self.first = first\n",
    "        self.last = last\n",
    "        self.pay = pay\n",
    "        self.email = first + '.' + last + '@company.com'\n",
    "        \n",
    "    def full_name(self):\n",
    "        return '{} {}'.format(self.first,self.last)\n",
    "\n",
    "emp1 = Employee('Corey','Schafer',50000)\n",
    "emp2 = Employee('Test','User',60000)"
   ]
  },
  {
   "cell_type": "markdown",
   "metadata": {},
   "source": [
    "- If you look here at our `Employee` class what kind of data would we want to be shared among all employees ? \n",
    "\n",
    "\n",
    "- Well there's a lot of different ideas that we could come up with but for this example let's say that our company gives annual raises every year. Now the amount can change from year to year but whatever that amount is it's going to be the same for all employees so that would be a good candidate for a **class variable**.\n",
    "\n",
    "Before we actually create that class variable, let's first hard code this in and see why the class variables would be a better use case. So we will create a method called `apply_raise`. Remember our methods automatically take in the instance which we are going to call `self`."
   ]
  },
  {
   "cell_type": "code",
   "execution_count": 2,
   "metadata": {},
   "outputs": [],
   "source": [
    "#hardcoding using a method\n",
    "\n",
    "class Employee:\n",
    "    def __init__(self, first, last, pay):\n",
    "        self.first = first\n",
    "        self.last = last\n",
    "        self.pay = pay\n",
    "        self.email = first + '.' + last + '@company.com'\n",
    "        \n",
    "    def full_name(self):\n",
    "        return '{} {}'.format(self.first,self.last)\n",
    "    \n",
    "    def apply_raise(self):\n",
    "        self.pay = int(self.pay * 1.04)   # 4% raise in pay\n",
    "\n",
    "emp1 = Employee('Corey','Schafer',50000)\n",
    "emp2 = Employee('Test','User',60000)"
   ]
  },
  {
   "cell_type": "markdown",
   "metadata": {},
   "source": [
    "To test this down here on an instance, "
   ]
  },
  {
   "cell_type": "code",
   "execution_count": 3,
   "metadata": {},
   "outputs": [
    {
     "name": "stdout",
     "output_type": "stream",
     "text": [
      "50000\n",
      "52000\n"
     ]
    }
   ],
   "source": [
    "print(emp1.pay)\n",
    "\n",
    "#applying raise on pay\n",
    "emp1.apply_raise()\n",
    "\n",
    "print(emp1.pay)"
   ]
  },
  {
   "cell_type": "markdown",
   "metadata": {},
   "source": [
    "So, we can see that it worked but there are a couple of things wrong here. First it would be nice if we could access the raise amount by doing something like `emp1.raise_amount`."
   ]
  },
  {
   "cell_type": "code",
   "execution_count": 4,
   "metadata": {},
   "outputs": [
    {
     "ename": "AttributeError",
     "evalue": "'Employee' object has no attribute 'raise_amount'",
     "output_type": "error",
     "traceback": [
      "\u001b[1;31m---------------------------------------------------------------------------\u001b[0m",
      "\u001b[1;31mAttributeError\u001b[0m                            Traceback (most recent call last)",
      "\u001b[1;32m<ipython-input-4-832883f20a8d>\u001b[0m in \u001b[0;36m<module>\u001b[1;34m\u001b[0m\n\u001b[1;32m----> 1\u001b[1;33m \u001b[0memp1\u001b[0m\u001b[1;33m.\u001b[0m\u001b[0mraise_amount\u001b[0m\u001b[1;33m\u001b[0m\u001b[1;33m\u001b[0m\u001b[0m\n\u001b[0m",
      "\u001b[1;31mAttributeError\u001b[0m: 'Employee' object has no attribute 'raise_amount'"
     ]
    }
   ],
   "source": [
    "emp1.raise_amount"
   ]
  },
  {
   "cell_type": "markdown",
   "metadata": {},
   "source": [
    "Or since it would apply to the entire class we should also be able to get the raise amount by doing `Employee.raise_amount`. "
   ]
  },
  {
   "cell_type": "code",
   "execution_count": 5,
   "metadata": {},
   "outputs": [
    {
     "ename": "AttributeError",
     "evalue": "type object 'Employee' has no attribute 'raise_amount'",
     "output_type": "error",
     "traceback": [
      "\u001b[1;31m---------------------------------------------------------------------------\u001b[0m",
      "\u001b[1;31mAttributeError\u001b[0m                            Traceback (most recent call last)",
      "\u001b[1;32m<ipython-input-5-0c836a3dce71>\u001b[0m in \u001b[0;36m<module>\u001b[1;34m\u001b[0m\n\u001b[1;32m----> 1\u001b[1;33m \u001b[0mEmployee\u001b[0m\u001b[1;33m.\u001b[0m\u001b[0mraise_amount\u001b[0m\u001b[1;33m\u001b[0m\u001b[1;33m\u001b[0m\u001b[0m\n\u001b[0m",
      "\u001b[1;31mAttributeError\u001b[0m: type object 'Employee' has no attribute 'raise_amount'"
     ]
    }
   ],
   "source": [
    "Employee.raise_amount"
   ]
  },
  {
   "cell_type": "markdown",
   "metadata": {},
   "source": [
    "Now that `raise_amount` attribute doesn't currently exist. So we can't see that it is 4%. \n",
    "\n",
    "And also what if I wanted to easily update that 4% amount ? "
   ]
  },
  {
   "cell_type": "markdown",
   "metadata": {},
   "source": [
    "So right now it's kind of hidden within the method `apply_raise`. And for all we know it could be in multiple places throughout our code so if we wanted to update this 4% we wouldn't want to manually go in and change these and multiple locations. \n",
    "\n",
    "Let's instead pull this 4% out into a class variable."
   ]
  },
  {
   "cell_type": "code",
   "execution_count": 6,
   "metadata": {},
   "outputs": [],
   "source": [
    "#using a class variable raise_amount\n",
    "\n",
    "class Employee:\n",
    "    \n",
    "    raise_amount = 1.04  #class variable\n",
    "    \n",
    "    def __init__(self, first, last, pay):\n",
    "        self.first = first\n",
    "        self.last = last\n",
    "        self.pay = pay\n",
    "        self.email = first + '.' + last + '@company.com'\n",
    "        \n",
    "    def full_name(self):\n",
    "        return '{} {}'.format(self.first,self.last)\n",
    "    \n",
    "    def apply_raise(self):\n",
    "        self.pay = int(self.pay * raise_amount)   # 4% raise by using class varibale raise_amount\n",
    "\n",
    "emp1 = Employee('Corey','Schafer',50000)\n",
    "emp2 = Employee('Test','User',60000)"
   ]
  },
  {
   "cell_type": "markdown",
   "metadata": {},
   "source": [
    "So now instead of hard-coding this 4% down here and our apply raise method now let's go ahead and use this class variable. \n",
    "\n",
    "But if we run these lines here,"
   ]
  },
  {
   "cell_type": "code",
   "execution_count": 7,
   "metadata": {},
   "outputs": [
    {
     "name": "stdout",
     "output_type": "stream",
     "text": [
      "50000\n"
     ]
    },
    {
     "ename": "NameError",
     "evalue": "name 'raise_amount' is not defined",
     "output_type": "error",
     "traceback": [
      "\u001b[1;31m---------------------------------------------------------------------------\u001b[0m",
      "\u001b[1;31mNameError\u001b[0m                                 Traceback (most recent call last)",
      "\u001b[1;32m<ipython-input-7-c172d34ad453>\u001b[0m in \u001b[0;36m<module>\u001b[1;34m\u001b[0m\n\u001b[0;32m      2\u001b[0m \u001b[1;33m\u001b[0m\u001b[0m\n\u001b[0;32m      3\u001b[0m \u001b[1;31m#applying raise on pay\u001b[0m\u001b[1;33m\u001b[0m\u001b[1;33m\u001b[0m\u001b[1;33m\u001b[0m\u001b[0m\n\u001b[1;32m----> 4\u001b[1;33m \u001b[0memp1\u001b[0m\u001b[1;33m.\u001b[0m\u001b[0mapply_raise\u001b[0m\u001b[1;33m(\u001b[0m\u001b[1;33m)\u001b[0m\u001b[1;33m\u001b[0m\u001b[1;33m\u001b[0m\u001b[0m\n\u001b[0m\u001b[0;32m      5\u001b[0m \u001b[1;33m\u001b[0m\u001b[0m\n\u001b[0;32m      6\u001b[0m \u001b[0mprint\u001b[0m\u001b[1;33m(\u001b[0m\u001b[0memp1\u001b[0m\u001b[1;33m.\u001b[0m\u001b[0mpay\u001b[0m\u001b[1;33m)\u001b[0m\u001b[1;33m\u001b[0m\u001b[1;33m\u001b[0m\u001b[0m\n",
      "\u001b[1;32m<ipython-input-6-b66f5791341c>\u001b[0m in \u001b[0;36mapply_raise\u001b[1;34m(self)\u001b[0m\n\u001b[0;32m     15\u001b[0m \u001b[1;33m\u001b[0m\u001b[0m\n\u001b[0;32m     16\u001b[0m     \u001b[1;32mdef\u001b[0m \u001b[0mapply_raise\u001b[0m\u001b[1;33m(\u001b[0m\u001b[0mself\u001b[0m\u001b[1;33m)\u001b[0m\u001b[1;33m:\u001b[0m\u001b[1;33m\u001b[0m\u001b[1;33m\u001b[0m\u001b[0m\n\u001b[1;32m---> 17\u001b[1;33m         \u001b[0mself\u001b[0m\u001b[1;33m.\u001b[0m\u001b[0mpay\u001b[0m \u001b[1;33m=\u001b[0m \u001b[0mint\u001b[0m\u001b[1;33m(\u001b[0m\u001b[0mself\u001b[0m\u001b[1;33m.\u001b[0m\u001b[0mpay\u001b[0m \u001b[1;33m*\u001b[0m \u001b[0mraise_amount\u001b[0m\u001b[1;33m)\u001b[0m   \u001b[1;31m# 4% raise by using class varibale raise_amount\u001b[0m\u001b[1;33m\u001b[0m\u001b[1;33m\u001b[0m\u001b[0m\n\u001b[0m\u001b[0;32m     18\u001b[0m \u001b[1;33m\u001b[0m\u001b[0m\n\u001b[0;32m     19\u001b[0m \u001b[0memp1\u001b[0m \u001b[1;33m=\u001b[0m \u001b[0mEmployee\u001b[0m\u001b[1;33m(\u001b[0m\u001b[1;34m'Corey'\u001b[0m\u001b[1;33m,\u001b[0m\u001b[1;34m'Schafer'\u001b[0m\u001b[1;33m,\u001b[0m\u001b[1;36m50000\u001b[0m\u001b[1;33m)\u001b[0m\u001b[1;33m\u001b[0m\u001b[1;33m\u001b[0m\u001b[0m\n",
      "\u001b[1;31mNameError\u001b[0m: name 'raise_amount' is not defined"
     ]
    }
   ],
   "source": [
    "print(emp1.pay)\n",
    "\n",
    "#applying raise on pay\n",
    "emp1.apply_raise()\n",
    "\n",
    "print(emp1.pay)"
   ]
  },
  {
   "cell_type": "markdown",
   "metadata": {},
   "source": [
    "You can see that we got a name error which says that `name 'raise_amount' is not defined` and that's because when we access the class variables, we need to either access them through the class itself or an instance of the class. \n",
    "\n",
    "So within the `apply_raise` we could either:"
   ]
  },
  {
   "cell_type": "code",
   "execution_count": 8,
   "metadata": {},
   "outputs": [],
   "source": [
    "#using a class variable raise_amount\n",
    "\n",
    "class Employee:\n",
    "    \n",
    "    raise_amount = 1.04  #class variable\n",
    "    \n",
    "    def __init__(self, first, last, pay):\n",
    "        self.first = first\n",
    "        self.last = last\n",
    "        self.pay = pay\n",
    "        self.email = first + '.' + last + '@company.com'\n",
    "        \n",
    "    def full_name(self):\n",
    "        return '{} {}'.format(self.first,self.last)\n",
    "    \n",
    "    def apply_raise(self):\n",
    "        self.pay = int(self.pay * Employee.raise_amount)   # 4% raise by using class varibale raise_amount\n",
    "\n",
    "emp1 = Employee('Corey','Schafer',50000)\n",
    "emp2 = Employee('Test','User',60000)"
   ]
  },
  {
   "cell_type": "code",
   "execution_count": 9,
   "metadata": {},
   "outputs": [
    {
     "name": "stdout",
     "output_type": "stream",
     "text": [
      "50000\n",
      "52000\n"
     ]
    }
   ],
   "source": [
    "print(emp1.pay)\n",
    "\n",
    "#applying raise on pay\n",
    "emp1.apply_raise()\n",
    "\n",
    "print(emp1.pay)"
   ]
  },
  {
   "cell_type": "markdown",
   "metadata": {},
   "source": [
    "you can see that that works **OR** we can also access through the instance:"
   ]
  },
  {
   "cell_type": "code",
   "execution_count": 10,
   "metadata": {},
   "outputs": [],
   "source": [
    "#using a class variable raise_amount\n",
    "\n",
    "class Employee:\n",
    "    \n",
    "    raise_amount = 1.04  #class variable\n",
    "    \n",
    "    def __init__(self, first, last, pay):\n",
    "        self.first = first\n",
    "        self.last = last\n",
    "        self.pay = pay\n",
    "        self.email = first + '.' + last + '@company.com'\n",
    "        \n",
    "    def full_name(self):\n",
    "        return '{} {}'.format(self.first,self.last)\n",
    "    \n",
    "    def apply_raise(self):\n",
    "        self.pay = int(self.pay * self.raise_amount)   # 4% raise by using class varibale raise_amount\n",
    "\n",
    "emp1 = Employee('Corey','Schafer',50000)\n",
    "emp2 = Employee('Test','User',60000)"
   ]
  },
  {
   "cell_type": "markdown",
   "metadata": {},
   "source": [
    "This might be a little confusing because **if `raise_amount` is a class variables then why can we access them from our instance ?** \n",
    "\n",
    "Let's print out a few lines to get a better idea of what's going on"
   ]
  },
  {
   "cell_type": "code",
   "execution_count": 11,
   "metadata": {},
   "outputs": [
    {
     "name": "stdout",
     "output_type": "stream",
     "text": [
      "1.04\n",
      "1.04\n",
      "1.04\n"
     ]
    }
   ],
   "source": [
    "print(Employee.raise_amount)\n",
    "\n",
    "print(emp1.raise_amount)\n",
    "print(emp2.raise_amount)"
   ]
  },
  {
   "cell_type": "markdown",
   "metadata": {},
   "source": [
    "- You can see that we can access the class variable `raise_amount` from both, the class itself as well as from both instances.\n",
    "\n",
    "\n",
    "- Now what's going on here is that when we try to access an attribute on an instance it will first check if the instance contains that attribute and if it doesn't then it will see if the class or any class that it inherits from contains that attribute so when we access `raise_amount` from our instances say `emp1.raise_amount` **they don't actually have that attribute themselves they're accessing the class's `raise_amount` attribute**.\n",
    "\n",
    "There's a little trick that we can do here to get a better idea of what's going on"
   ]
  },
  {
   "cell_type": "code",
   "execution_count": 12,
   "metadata": {},
   "outputs": [
    {
     "name": "stdout",
     "output_type": "stream",
     "text": [
      "{'first': 'Corey', 'last': 'Schafer', 'pay': 50000, 'email': 'Corey.Schafer@company.com'}\n"
     ]
    }
   ],
   "source": [
    "#namespace of emp1\n",
    "\n",
    "print(emp1.__dict__)"
   ]
  },
  {
   "cell_type": "markdown",
   "metadata": {},
   "source": [
    "- You can see that there's no `raise_amount` here in this list."
   ]
  },
  {
   "cell_type": "code",
   "execution_count": 13,
   "metadata": {},
   "outputs": [
    {
     "name": "stdout",
     "output_type": "stream",
     "text": [
      "{'__module__': '__main__', 'raise_amount': 1.04, '__init__': <function Employee.__init__ at 0x0000026999B7BA60>, 'full_name': <function Employee.full_name at 0x0000026999B7B0D0>, 'apply_raise': <function Employee.apply_raise at 0x0000026999B7B040>, '__dict__': <attribute '__dict__' of 'Employee' objects>, '__weakref__': <attribute '__weakref__' of 'Employee' objects>, '__doc__': None}\n"
     ]
    }
   ],
   "source": [
    "print(Employee.__dict__)"
   ]
  },
  {
   "cell_type": "markdown",
   "metadata": {},
   "source": [
    " - We can see that the class does contain this `raise_amount` attribute and that is the value that our instances see when we access that `raise_amount` attribute from our instances. \n",
    "\n",
    "Let's see an important concept here:"
   ]
  },
  {
   "cell_type": "code",
   "execution_count": 14,
   "metadata": {},
   "outputs": [
    {
     "name": "stdout",
     "output_type": "stream",
     "text": [
      "1.05\n",
      "1.05\n",
      "1.05\n"
     ]
    }
   ],
   "source": [
    "class Employee:\n",
    "    \n",
    "    raise_amount = 1.04  #class variable\n",
    "    \n",
    "    def __init__(self, first, last, pay):\n",
    "        self.first = first\n",
    "        self.last = last\n",
    "        self.pay = pay\n",
    "        self.email = first + '.' + last + '@company.com'\n",
    "        \n",
    "    def full_name(self):\n",
    "        return '{} {}'.format(self.first,self.last)\n",
    "    \n",
    "    def apply_raise(self):\n",
    "        self.pay = int(self.pay * self.raise_amount)   # 4% raise by using class varibale raise_amount\n",
    "\n",
    "emp1 = Employee('Corey','Schafer',50000)\n",
    "emp2 = Employee('Test','User',60000)\n",
    "\n",
    "\n",
    "#changing raise_amount using class form 4% to 5%\n",
    "Employee.raise_amount = 1.05\n",
    "\n",
    "#printing pay for class and instances\n",
    "print(Employee.raise_amount)\n",
    "print(emp1.raise_amount)\n",
    "print(emp2.raise_amount)"
   ]
  },
  {
   "cell_type": "markdown",
   "metadata": {},
   "source": [
    "- You can see that it changed the `raise_amount` for the class and all of the instances.\n",
    "\n",
    "Now what if we want to set the `raise_amount` using an instance instead of using the class."
   ]
  },
  {
   "cell_type": "code",
   "execution_count": 15,
   "metadata": {},
   "outputs": [
    {
     "name": "stdout",
     "output_type": "stream",
     "text": [
      "1.04\n",
      "1.05\n",
      "1.04\n"
     ]
    }
   ],
   "source": [
    "class Employee:\n",
    "    \n",
    "    raise_amount = 1.04  #class variable\n",
    "    \n",
    "    def __init__(self, first, last, pay):\n",
    "        self.first = first\n",
    "        self.last = last\n",
    "        self.pay = pay\n",
    "        self.email = first + '.' + last + '@company.com'\n",
    "        \n",
    "    def full_name(self):\n",
    "        return '{} {}'.format(self.first,self.last)\n",
    "    \n",
    "    def apply_raise(self):\n",
    "        self.pay = int(self.pay * self.raise_amount)   # 4% raise by using class varibale raise_amount\n",
    "\n",
    "emp1 = Employee('Corey','Schafer',50000)\n",
    "emp2 = Employee('Test','User',60000)\n",
    "\n",
    "\n",
    "#changing raise_amount for instance\n",
    "emp1.raise_amount = 1.05\n",
    "\n",
    "#printing pay for class and instances\n",
    "print(Employee.raise_amount)\n",
    "print(emp1.raise_amount)\n",
    "print(emp2.raise_amount)"
   ]
  },
  {
   "cell_type": "markdown",
   "metadata": {},
   "source": [
    "- You can see that it only changed the `raise_amount` for `emp1`. It's the only one that has this 5% .\n",
    "\n",
    "So why did it do that ?\n",
    "\n",
    "\n",
    "Well when we made the assignment `emp1.raise_amount = 1.05` it actually created the `raise_amount` attribute within `emp1`. So if we print `emp1`'s namespace "
   ]
  },
  {
   "cell_type": "code",
   "execution_count": 16,
   "metadata": {},
   "outputs": [
    {
     "name": "stdout",
     "output_type": "stream",
     "text": [
      "{'first': 'Corey', 'last': 'Schafer', 'pay': 50000, 'email': 'Corey.Schafer@company.com', 'raise_amount': 1.05}\n"
     ]
    }
   ],
   "source": [
    "print(emp1.__dict__)"
   ]
  },
  {
   "cell_type": "markdown",
   "metadata": {},
   "source": [
    "- You can see that `emp1` has `raised_amount` within its name space equal to 5% and it finds this within its own namespace and returns that value before going and searching the class and we didn't set that `raise_amount` on `emp2` so that still falls back to the classes value. "
   ]
  },
  {
   "cell_type": "markdown",
   "metadata": {},
   "source": [
    "Thus, we could get different results depending on whether we did the `self` which is the instance `raise_amount` or the `Employee` class `raise_amount`. "
   ]
  },
  {
   "cell_type": "markdown",
   "metadata": {},
   "source": [
    "Let's look at another example of a class variable where it wouldn't really make sense to use `self`. \n",
    "\n",
    "So let's say that we wanted to keep track of how many employees that we have. The number of employees should be the same for all instances of our class. "
   ]
  },
  {
   "cell_type": "code",
   "execution_count": 17,
   "metadata": {},
   "outputs": [],
   "source": [
    "class Employee:\n",
    "    \n",
    "    num_of_emps = 0\n",
    "    raise_amount = 1.04  #class variable\n",
    "    \n",
    "    def __init__(self, first, last, pay):\n",
    "        self.first = first\n",
    "        self.last = last\n",
    "        self.pay = pay\n",
    "        self.email = first + '.' + last + '@company.com'\n",
    "        \n",
    "        Employee.num_of_emps += 1    #increment by 1 each time we create a new employee\n",
    "        \n",
    "    def full_name(self):\n",
    "        return '{} {}'.format(self.first,self.last)\n",
    "    \n",
    "    def apply_raise(self):\n",
    "        self.pay = int(self.pay * self.raise_amount)   # 4% raise by using class varibale raise_amount\n",
    "\n",
    "emp1 = Employee('Corey','Schafer',50000)\n",
    "emp2 = Employee('Test','User',60000)"
   ]
  },
  {
   "cell_type": "markdown",
   "metadata": {},
   "source": [
    "- **Incrementation is done within the `__init__` method since the `__init__` method runs every time we create a new employee.**\n",
    "\n",
    "\n",
    "-  We use `Employee.num_of_emps` here instead of `self.num_of_emps` because with the `raise_amount` it's nice to have that constant class value that can be overridden per instance, if we really need it to be. But in this case there's no scenario we can think of where we would want our total number of employees to be different for any one instance."
   ]
  },
  {
   "cell_type": "code",
   "execution_count": 18,
   "metadata": {},
   "outputs": [
    {
     "name": "stdout",
     "output_type": "stream",
     "text": [
      "2\n"
     ]
    }
   ],
   "source": [
    "print(Employee.num_of_emps)"
   ]
  },
  {
   "cell_type": "markdown",
   "metadata": {},
   "source": [
    "- You can see that it returned 2 because it was incremented twice when we instantiated both of our employees `emp1` and `emp2`."
   ]
  }
 ],
 "metadata": {
  "kernelspec": {
   "display_name": "Python 3",
   "language": "python",
   "name": "python3"
  },
  "language_info": {
   "codemirror_mode": {
    "name": "ipython",
    "version": 3
   },
   "file_extension": ".py",
   "mimetype": "text/x-python",
   "name": "python",
   "nbconvert_exporter": "python",
   "pygments_lexer": "ipython3",
   "version": "3.8.3"
  }
 },
 "nbformat": 4,
 "nbformat_minor": 4
}
