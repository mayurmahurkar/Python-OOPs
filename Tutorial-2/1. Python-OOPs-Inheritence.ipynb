{
 "cells": [
  {
   "cell_type": "markdown",
   "id": "09ae5999-cdaf-4ee2-88aa-51c91f078419",
   "metadata": {},
   "source": [
    "### Inherit From Other Classes in Python\n",
    "\n",
    "Inheritance is the process by which one class takes on the attributes and methods of another. Newly formed classes are called **child classes**, and the classes that child classes are derived from are called **parent classes**.\n",
    "\n",
    "Child classes can override or extend the attributes and methods of parent classes. In other words, child classes inherit all of the parent’s attributes and methods but can also specify attributes and methods that are unique to themselves."
   ]
  },
  {
   "cell_type": "markdown",
   "id": "5dd66199-b122-4203-b0da-812a7b47d732",
   "metadata": {
    "tags": []
   },
   "source": [
    "### Dog Park Example\n",
    "\n",
    "Pretend for a moment that you’re at a dog park. There are many dogs of different breeds at the park, all engaging in various dog behaviors.\n",
    "\n",
    "Suppose now that you want to model the dog park with Python classes. The `Dog` class that you wrote in the previous section can distinguish dogs by name and age but not by breed."
   ]
  },
  {
   "cell_type": "code",
   "execution_count": 4,
   "id": "49a7571f-b84a-4ca1-8039-69381fda3e73",
   "metadata": {
    "execution": {
     "iopub.execute_input": "2022-08-05T06:22:49.658964Z",
     "iopub.status.busy": "2022-08-05T06:22:49.658751Z",
     "iopub.status.idle": "2022-08-05T06:22:49.662204Z",
     "shell.execute_reply": "2022-08-05T06:22:49.661690Z",
     "shell.execute_reply.started": "2022-08-05T06:22:49.658948Z"
    },
    "tags": []
   },
   "outputs": [],
   "source": [
    "class Dog:\n",
    "    species = \"Canis familiaris\"\n",
    "\n",
    "    def __init__(self, name, age, breed):\n",
    "        self.name = name\n",
    "        self.age = age\n",
    "        self.breed = breed  \n",
    "\n",
    "    def __str__(self):\n",
    "        return f\"{self.name} is {self.age} years old\"\n",
    "    \n",
    "    def speak(self, sound):\n",
    "        return f\"{self.name} says {sound}\""
   ]
  },
  {
   "cell_type": "code",
   "execution_count": 5,
   "id": "6bd06d88-7127-4d16-a4ba-441f73ec27b8",
   "metadata": {
    "execution": {
     "iopub.execute_input": "2022-08-05T06:22:50.138985Z",
     "iopub.status.busy": "2022-08-05T06:22:50.138803Z",
     "iopub.status.idle": "2022-08-05T06:22:50.142025Z",
     "shell.execute_reply": "2022-08-05T06:22:50.141421Z",
     "shell.execute_reply.started": "2022-08-05T06:22:50.138969Z"
    },
    "tags": []
   },
   "outputs": [],
   "source": [
    "miles = Dog(\"Miles\", 4, \"Jack Russell Terrier\")\n",
    "buddy = Dog(\"Buddy\", 9, \"Dachshund\")\n",
    "jack = Dog(\"Jack\", 3, \"Bulldog\")\n",
    "jim = Dog(\"Jim\", 5, \"Bulldog\")"
   ]
  },
  {
   "cell_type": "markdown",
   "id": "b11bac89-8e2b-47db-8e99-e0deeb032f24",
   "metadata": {},
   "source": [
    "Each breed of dog has slightly different behaviors. For example, bulldogs have a low bark that sounds like woof, but dachshunds have a higher-pitched bark that sounds more like yap.\n",
    "\n",
    "Using just the `Dog` class, you must supply a string for the sound argument of `.speak()` every time you call it on a `Dog` instance:"
   ]
  },
  {
   "cell_type": "code",
   "execution_count": 6,
   "id": "91281070-fa19-4bab-84aa-b66ab371f4f8",
   "metadata": {
    "execution": {
     "iopub.execute_input": "2022-08-05T06:22:52.823064Z",
     "iopub.status.busy": "2022-08-05T06:22:52.822578Z",
     "iopub.status.idle": "2022-08-05T06:22:52.826263Z",
     "shell.execute_reply": "2022-08-05T06:22:52.825698Z",
     "shell.execute_reply.started": "2022-08-05T06:22:52.823044Z"
    },
    "tags": []
   },
   "outputs": [
    {
     "data": {
      "text/plain": [
       "'Buddy says Yap'"
      ]
     },
     "execution_count": 6,
     "metadata": {},
     "output_type": "execute_result"
    }
   ],
   "source": [
    "buddy.speak(\"Yap\")"
   ]
  },
  {
   "cell_type": "code",
   "execution_count": 7,
   "id": "50d05d6a-b10f-42db-b557-b164028cfe79",
   "metadata": {
    "execution": {
     "iopub.execute_input": "2022-08-05T06:23:09.635166Z",
     "iopub.status.busy": "2022-08-05T06:23:09.634994Z",
     "iopub.status.idle": "2022-08-05T06:23:09.638869Z",
     "shell.execute_reply": "2022-08-05T06:23:09.638404Z",
     "shell.execute_reply.started": "2022-08-05T06:23:09.635150Z"
    }
   },
   "outputs": [
    {
     "data": {
      "text/plain": [
       "'Jim says Woof'"
      ]
     },
     "execution_count": 7,
     "metadata": {},
     "output_type": "execute_result"
    }
   ],
   "source": [
    "jim.speak(\"Woof\")"
   ]
  },
  {
   "cell_type": "code",
   "execution_count": 8,
   "id": "6d3e83d1-423e-45d9-bd7a-bcd9c8e15b09",
   "metadata": {
    "execution": {
     "iopub.execute_input": "2022-08-05T06:23:20.429381Z",
     "iopub.status.busy": "2022-08-05T06:23:20.428963Z",
     "iopub.status.idle": "2022-08-05T06:23:20.432817Z",
     "shell.execute_reply": "2022-08-05T06:23:20.432354Z",
     "shell.execute_reply.started": "2022-08-05T06:23:20.429361Z"
    }
   },
   "outputs": [
    {
     "data": {
      "text/plain": [
       "'Jack says Woof'"
      ]
     },
     "execution_count": 8,
     "metadata": {},
     "output_type": "execute_result"
    }
   ],
   "source": [
    "jack.speak(\"Woof\")"
   ]
  },
  {
   "cell_type": "markdown",
   "id": "4b600890-6d7c-4c56-bb2c-4ab8723d8bd0",
   "metadata": {},
   "source": [
    "Passing a string to every call to `.speak()` is repetitive and inconvenient. Moreover, the string representing the sound that each Dog instance makes should be determined by its `.breed` attribute, but here you have to manually pass the correct string to `.speak()` every time it’s called.\n",
    "\n",
    "You can simplify the experience of working with the Dog class by creating a child class for each breed of dog. This allows you to extend the functionality that each child class inherits, including specifying a default argument for `.speak()`."
   ]
  },
  {
   "cell_type": "markdown",
   "id": "2f1f3d3f-d762-49ab-9209-910ff8398902",
   "metadata": {},
   "source": [
    "## Parent Classes vs Child Classes\n",
    "\n",
    "Let’s create a child class for each of the three breeds mentioned above: Jack Russell Terrier, Dachshund, and Bulldog.\n",
    "\n",
    "For reference, here’s the full definition of the `Dog` class:"
   ]
  },
  {
   "cell_type": "code",
   "execution_count": 9,
   "id": "d99c71f9-43d4-428d-8c5c-d94d423f9938",
   "metadata": {
    "execution": {
     "iopub.execute_input": "2022-08-05T06:28:26.566071Z",
     "iopub.status.busy": "2022-08-05T06:28:26.565909Z",
     "iopub.status.idle": "2022-08-05T06:28:26.569199Z",
     "shell.execute_reply": "2022-08-05T06:28:26.568760Z",
     "shell.execute_reply.started": "2022-08-05T06:28:26.566056Z"
    }
   },
   "outputs": [],
   "source": [
    "class Dog:\n",
    "    species = \"Canis familiaris\"\n",
    "\n",
    "    def __init__(self, name, age):\n",
    "        self.name = name\n",
    "        self.age = age\n",
    "\n",
    "    def __str__(self):\n",
    "        return f\"{self.name} is {self.age} years old\"\n",
    "\n",
    "    def speak(self, sound):\n",
    "        return f\"{self.name} says {sound}\""
   ]
  },
  {
   "cell_type": "markdown",
   "id": "d519a8b8-3030-49cc-9c35-7bd84093dc35",
   "metadata": {},
   "source": [
    "Remember, to create a child class, you create new class with its own name and then put the name of the parent class in parentheses. Add the following to create three new child classes of the `Dog` class:"
   ]
  },
  {
   "cell_type": "code",
   "execution_count": 11,
   "id": "f69f1e3d-32ea-4568-b617-1e21e2260ba4",
   "metadata": {
    "execution": {
     "iopub.execute_input": "2022-08-05T06:29:30.430951Z",
     "iopub.status.busy": "2022-08-05T06:29:30.430453Z",
     "iopub.status.idle": "2022-08-05T06:29:30.433520Z",
     "shell.execute_reply": "2022-08-05T06:29:30.433051Z",
     "shell.execute_reply.started": "2022-08-05T06:29:30.430927Z"
    },
    "tags": []
   },
   "outputs": [],
   "source": [
    "class JackRussellTerrier(Dog):\n",
    "    pass\n",
    "\n",
    "class Dachshund(Dog):\n",
    "    pass\n",
    "\n",
    "class Bulldog(Dog):\n",
    "    pass"
   ]
  },
  {
   "cell_type": "markdown",
   "id": "15619ef2-c768-4e78-8dc3-69dbd60060f0",
   "metadata": {},
   "source": [
    "With the child classes defined, you can now instantiate some dogs of specific breeds:"
   ]
  },
  {
   "cell_type": "code",
   "execution_count": 12,
   "id": "6dcc9276-1fcf-455d-aea8-1122547189ab",
   "metadata": {
    "execution": {
     "iopub.execute_input": "2022-08-05T07:17:37.670408Z",
     "iopub.status.busy": "2022-08-05T07:17:37.669699Z",
     "iopub.status.idle": "2022-08-05T07:17:37.676316Z",
     "shell.execute_reply": "2022-08-05T07:17:37.675257Z",
     "shell.execute_reply.started": "2022-08-05T07:17:37.670361Z"
    }
   },
   "outputs": [],
   "source": [
    "miles = JackRussellTerrier(\"Miles\", 4)\n",
    "buddy = Dachshund(\"Buddy\", 9)\n",
    "jack = Bulldog(\"Jack\", 3)\n",
    "jim = Bulldog(\"Jim\", 5)"
   ]
  },
  {
   "cell_type": "markdown",
   "id": "6be5dbb9-ea20-4b83-bbe5-6b60fb642bb2",
   "metadata": {},
   "source": [
    "Instances of child classes inherit all of the attributes and methods of the parent class:"
   ]
  },
  {
   "cell_type": "code",
   "execution_count": 13,
   "id": "f325b767-fa0a-4fae-aa00-53333d044edd",
   "metadata": {
    "execution": {
     "iopub.execute_input": "2022-08-05T07:18:04.345802Z",
     "iopub.status.busy": "2022-08-05T07:18:04.344562Z",
     "iopub.status.idle": "2022-08-05T07:18:04.351438Z",
     "shell.execute_reply": "2022-08-05T07:18:04.350547Z",
     "shell.execute_reply.started": "2022-08-05T07:18:04.345770Z"
    }
   },
   "outputs": [
    {
     "data": {
      "text/plain": [
       "'Canis familiaris'"
      ]
     },
     "execution_count": 13,
     "metadata": {},
     "output_type": "execute_result"
    }
   ],
   "source": [
    "miles.species"
   ]
  },
  {
   "cell_type": "code",
   "execution_count": 14,
   "id": "88924868-cf63-416a-99d6-76fabad790db",
   "metadata": {
    "execution": {
     "iopub.execute_input": "2022-08-05T07:18:11.431324Z",
     "iopub.status.busy": "2022-08-05T07:18:11.430957Z",
     "iopub.status.idle": "2022-08-05T07:18:11.437422Z",
     "shell.execute_reply": "2022-08-05T07:18:11.436434Z",
     "shell.execute_reply.started": "2022-08-05T07:18:11.431277Z"
    }
   },
   "outputs": [
    {
     "data": {
      "text/plain": [
       "'Buddy'"
      ]
     },
     "execution_count": 14,
     "metadata": {},
     "output_type": "execute_result"
    }
   ],
   "source": [
    "buddy.name"
   ]
  },
  {
   "cell_type": "code",
   "execution_count": 15,
   "id": "e2953f79-34fc-4dd2-89d9-e099bf21c79f",
   "metadata": {
    "execution": {
     "iopub.execute_input": "2022-08-05T07:18:21.224203Z",
     "iopub.status.busy": "2022-08-05T07:18:21.222774Z",
     "iopub.status.idle": "2022-08-05T07:18:21.230978Z",
     "shell.execute_reply": "2022-08-05T07:18:21.229060Z",
     "shell.execute_reply.started": "2022-08-05T07:18:21.224104Z"
    }
   },
   "outputs": [
    {
     "name": "stdout",
     "output_type": "stream",
     "text": [
      "Jack is 3 years old\n"
     ]
    }
   ],
   "source": [
    "print(jack)"
   ]
  },
  {
   "cell_type": "code",
   "execution_count": 16,
   "id": "ec41c0be-e4b4-4a5f-9fc7-aa2b26b49194",
   "metadata": {
    "execution": {
     "iopub.execute_input": "2022-08-05T07:18:27.128377Z",
     "iopub.status.busy": "2022-08-05T07:18:27.128065Z",
     "iopub.status.idle": "2022-08-05T07:18:27.136019Z",
     "shell.execute_reply": "2022-08-05T07:18:27.134644Z",
     "shell.execute_reply.started": "2022-08-05T07:18:27.128353Z"
    }
   },
   "outputs": [
    {
     "data": {
      "text/plain": [
       "'Jim says Woof'"
      ]
     },
     "execution_count": 16,
     "metadata": {},
     "output_type": "execute_result"
    }
   ],
   "source": [
    "jim.speak(\"Woof\")"
   ]
  },
  {
   "cell_type": "markdown",
   "id": "3760f9fa-ab93-496d-9a06-c14fd37836d3",
   "metadata": {
    "execution": {
     "iopub.execute_input": "2022-08-05T07:20:00.165673Z",
     "iopub.status.busy": "2022-08-05T07:20:00.165319Z",
     "iopub.status.idle": "2022-08-05T07:20:00.173959Z",
     "shell.execute_reply": "2022-08-05T07:20:00.172434Z",
     "shell.execute_reply.started": "2022-08-05T07:20:00.165640Z"
    }
   },
   "source": [
    "<div class=\"alert alert-block alert-info\">\n",
    "<b></b> \n",
    "To determine which class a given object belongs to, you can use the built-in type():\n",
    "</div>"
   ]
  },
  {
   "cell_type": "code",
   "execution_count": 18,
   "id": "0019f91a-3664-4209-9204-3699260e8194",
   "metadata": {
    "execution": {
     "iopub.execute_input": "2022-08-05T07:20:11.149173Z",
     "iopub.status.busy": "2022-08-05T07:20:11.148253Z",
     "iopub.status.idle": "2022-08-05T07:20:11.154569Z",
     "shell.execute_reply": "2022-08-05T07:20:11.153537Z",
     "shell.execute_reply.started": "2022-08-05T07:20:11.149112Z"
    }
   },
   "outputs": [
    {
     "data": {
      "text/plain": [
       "__main__.JackRussellTerrier"
      ]
     },
     "execution_count": 18,
     "metadata": {},
     "output_type": "execute_result"
    }
   ],
   "source": [
    "type(miles)"
   ]
  },
  {
   "cell_type": "markdown",
   "id": "031656e1-52a7-4be5-aa09-17045c256a73",
   "metadata": {},
   "source": [
    "<div class=\"alert alert-block alert-info\">\n",
    "<b></b> \n",
    "To determine if miles is also an instance of the Dog class? You can do this with the built-in isinstance():\n",
    "</div>"
   ]
  },
  {
   "cell_type": "code",
   "execution_count": 19,
   "id": "22af7c6c-c6f1-49b2-992d-4241e331712a",
   "metadata": {
    "execution": {
     "iopub.execute_input": "2022-08-05T07:21:18.295455Z",
     "iopub.status.busy": "2022-08-05T07:21:18.295168Z",
     "iopub.status.idle": "2022-08-05T07:21:18.302813Z",
     "shell.execute_reply": "2022-08-05T07:21:18.301676Z",
     "shell.execute_reply.started": "2022-08-05T07:21:18.295427Z"
    }
   },
   "outputs": [
    {
     "data": {
      "text/plain": [
       "True"
      ]
     },
     "execution_count": 19,
     "metadata": {},
     "output_type": "execute_result"
    }
   ],
   "source": [
    "isinstance(miles, Dog)"
   ]
  },
  {
   "cell_type": "markdown",
   "id": "47bc1dca-43b4-40f8-9b0b-4ff97c2d8e36",
   "metadata": {},
   "source": [
    "Notice that `isinstance()` takes two arguments, an object and a class. In the example above, `isinstance()` checks if miles is an instance of the Dog class and returns `True`.\n",
    "\n",
    "The `miles`, `buddy`, `jack`, and `jim` objects are all `Dog` instances, but `miles` is not a `Bulldog` instance, and jack is not a `Dachshund` instance:"
   ]
  },
  {
   "cell_type": "code",
   "execution_count": 20,
   "id": "c78d5abb-6d2f-4cbf-8225-c5486744c9c7",
   "metadata": {
    "execution": {
     "iopub.execute_input": "2022-08-05T07:22:50.863683Z",
     "iopub.status.busy": "2022-08-05T07:22:50.863044Z",
     "iopub.status.idle": "2022-08-05T07:22:50.870604Z",
     "shell.execute_reply": "2022-08-05T07:22:50.869836Z",
     "shell.execute_reply.started": "2022-08-05T07:22:50.863637Z"
    }
   },
   "outputs": [
    {
     "data": {
      "text/plain": [
       "False"
      ]
     },
     "execution_count": 20,
     "metadata": {},
     "output_type": "execute_result"
    }
   ],
   "source": [
    "isinstance(miles, Bulldog)"
   ]
  },
  {
   "cell_type": "code",
   "execution_count": 21,
   "id": "5a346bb6-e025-438b-b8c3-80bdf7fe1f1c",
   "metadata": {
    "execution": {
     "iopub.execute_input": "2022-08-05T07:22:51.282216Z",
     "iopub.status.busy": "2022-08-05T07:22:51.281600Z",
     "iopub.status.idle": "2022-08-05T07:22:51.289358Z",
     "shell.execute_reply": "2022-08-05T07:22:51.288265Z",
     "shell.execute_reply.started": "2022-08-05T07:22:51.282160Z"
    }
   },
   "outputs": [
    {
     "data": {
      "text/plain": [
       "False"
      ]
     },
     "execution_count": 21,
     "metadata": {},
     "output_type": "execute_result"
    }
   ],
   "source": [
    "isinstance(jack, Dachshund)"
   ]
  },
  {
   "cell_type": "markdown",
   "id": "f0f9f01c-5f2f-490f-a26a-1ec457242994",
   "metadata": {},
   "source": [
    "More generally, all objects created from a child class are instances of the parent class, although they may not be instances of other child classes.\n",
    "\n",
    "Now that you’ve created child classes for some different breeds of dogs, let’s give each breed its own sound."
   ]
  },
  {
   "cell_type": "markdown",
   "id": "e8445196-b966-47fc-ad0d-54e9cb17a31e",
   "metadata": {},
   "source": [
    "## Extend the Functionality of a Parent Class\n",
    "\n",
    "Since different breeds of dogs have slightly different barks, you want to provide a default value for the sound argument of their respective `.speak()` methods. To do this, you need to override `.speak()` in the class definition for each breed.\n",
    "\n",
    "To override a method defined on the parent class, you define a method with the same name on the child class. Here’s what that looks like for the `JackRussellTerrier` class:"
   ]
  },
  {
   "cell_type": "code",
   "execution_count": 22,
   "id": "25f13851-3da5-4d7a-8d08-7d46a5e981d9",
   "metadata": {
    "execution": {
     "iopub.execute_input": "2022-08-05T07:27:59.679863Z",
     "iopub.status.busy": "2022-08-05T07:27:59.679130Z",
     "iopub.status.idle": "2022-08-05T07:27:59.685706Z",
     "shell.execute_reply": "2022-08-05T07:27:59.684341Z",
     "shell.execute_reply.started": "2022-08-05T07:27:59.679825Z"
    }
   },
   "outputs": [],
   "source": [
    "class JackRussellTerrier(Dog):\n",
    "    def Speak(self, sound = \"Arf\"):\n",
    "        return f\"{self.name} says {sound}\""
   ]
  },
  {
   "cell_type": "markdown",
   "id": "c52239c5-251b-47b5-b190-201c81eaadbb",
   "metadata": {},
   "source": [
    "Now `.speak()` is defined on the `JackRussellTerrier` class with the default argument for sound set to `\"Arf\"`."
   ]
  },
  {
   "cell_type": "markdown",
   "id": "a2c5838f-325c-4044-8a28-ced59b05de9f",
   "metadata": {},
   "source": [
    "We will update with the new `JackRussellTerrier` class and can now call `.speak()` on a `JackRussellTerrier` instance without passing an argument to sound:"
   ]
  },
  {
   "cell_type": "code",
   "execution_count": 1,
   "id": "0d2695a1-075d-411f-b0af-33e0700f4325",
   "metadata": {
    "execution": {
     "iopub.execute_input": "2022-08-05T07:41:40.493508Z",
     "iopub.status.busy": "2022-08-05T07:41:40.493156Z",
     "iopub.status.idle": "2022-08-05T07:41:40.499952Z",
     "shell.execute_reply": "2022-08-05T07:41:40.498756Z",
     "shell.execute_reply.started": "2022-08-05T07:41:40.493470Z"
    },
    "tags": []
   },
   "outputs": [],
   "source": [
    "class Dog:\n",
    "    species = \"Canis familiaris\"\n",
    "\n",
    "    def __init__(self, name, age):\n",
    "        self.name = name\n",
    "        self.age = age\n",
    "\n",
    "    def __str__(self):\n",
    "        return f\"{self.name} is {self.age} years old\"\n",
    "\n",
    "    def speak(self, sound):\n",
    "        return f\"{self.name} says {sound}\"\n",
    "\n",
    "class JackRussellTerrier(Dog):\n",
    "    def speak(self, sound = \"Arf\"):\n",
    "        return f\"{self.name} says {sound}\"\n",
    "\n",
    "# class Dachshund(Dog):\n",
    "#     pass\n",
    "\n",
    "# class Bulldog(Dog):\n",
    "#     pass"
   ]
  },
  {
   "cell_type": "code",
   "execution_count": 2,
   "id": "234d9e17-41d3-413e-beea-e5dca6ef4e2c",
   "metadata": {
    "execution": {
     "iopub.execute_input": "2022-08-05T07:41:41.016988Z",
     "iopub.status.busy": "2022-08-05T07:41:41.016569Z",
     "iopub.status.idle": "2022-08-05T07:41:41.023540Z",
     "shell.execute_reply": "2022-08-05T07:41:41.022370Z",
     "shell.execute_reply.started": "2022-08-05T07:41:41.016959Z"
    },
    "tags": []
   },
   "outputs": [
    {
     "data": {
      "text/plain": [
       "'Miles says Arf'"
      ]
     },
     "execution_count": 2,
     "metadata": {},
     "output_type": "execute_result"
    }
   ],
   "source": [
    "miles = JackRussellTerrier(\"Miles\", 4)\n",
    "miles.speak()"
   ]
  },
  {
   "cell_type": "markdown",
   "id": "eece0e75-ec09-434f-9d9e-14710a947a72",
   "metadata": {},
   "source": [
    "Sometimes dogs make different barks, so if `Miles` gets angry and growls, you can still call `.speak()` with a different sound:"
   ]
  },
  {
   "cell_type": "code",
   "execution_count": 3,
   "id": "077b587f-06ce-4644-a411-e60a990ab37b",
   "metadata": {
    "execution": {
     "iopub.execute_input": "2022-08-05T07:41:43.871884Z",
     "iopub.status.busy": "2022-08-05T07:41:43.871608Z",
     "iopub.status.idle": "2022-08-05T07:41:43.877339Z",
     "shell.execute_reply": "2022-08-05T07:41:43.876364Z",
     "shell.execute_reply.started": "2022-08-05T07:41:43.871847Z"
    },
    "tags": []
   },
   "outputs": [
    {
     "data": {
      "text/plain": [
       "'Miles says Grrr'"
      ]
     },
     "execution_count": 3,
     "metadata": {},
     "output_type": "execute_result"
    }
   ],
   "source": [
    "miles.speak(\"Grrr\")"
   ]
  },
  {
   "cell_type": "markdown",
   "id": "50bcf5bf-ccf7-435a-9be4-23357b1a592c",
   "metadata": {},
   "source": [
    "One thing to keep in mind about class inheritance is that changes to the parent class automatically propagate to child classes. This occurs as long as the attribute or method being changed isn’t overridden in the child class.\n",
    "\n",
    "For example, change the string returned by `.speak()` in the `Dog` class:"
   ]
  },
  {
   "cell_type": "code",
   "execution_count": 6,
   "id": "6fb202d2-0369-4037-89e0-2fd03279f965",
   "metadata": {
    "execution": {
     "iopub.execute_input": "2022-08-05T08:46:29.423850Z",
     "iopub.status.busy": "2022-08-05T08:46:29.423006Z",
     "iopub.status.idle": "2022-08-05T08:46:29.430300Z",
     "shell.execute_reply": "2022-08-05T08:46:29.428874Z",
     "shell.execute_reply.started": "2022-08-05T08:46:29.423799Z"
    },
    "tags": []
   },
   "outputs": [],
   "source": [
    "class Dog:\n",
    "    species = \"Canis familiaris\"\n",
    "\n",
    "    def __init__(self, name, age):\n",
    "        self.name = name\n",
    "        self.age = age\n",
    "\n",
    "    def __str__(self):\n",
    "        return f\"{self.name} is {self.age} years old\"\n",
    "\n",
    "    # Change the string returned by .speak\n",
    "    def speak(self, sound):\n",
    "        return f\"{self.name} barks: {sound}\"\n",
    "    \n",
    "class JackRussellTerrier(Dog):\n",
    "    def speak(self, sound = \"Arf\"):\n",
    "        return f\"{self.name} says {sound}\"\n",
    "\n",
    "class Dachshund(Dog):\n",
    "    pass\n",
    "\n",
    "class Bulldog(Dog):\n",
    "    pass"
   ]
  },
  {
   "cell_type": "markdown",
   "id": "916e431f-fb44-446e-ba7c-d948c5bd9f3a",
   "metadata": {},
   "source": [
    "Now, when you create a new Bulldog instance named `jim`, `jim.speak()` returns the new string:"
   ]
  },
  {
   "cell_type": "code",
   "execution_count": 7,
   "id": "1210c0c9-4679-4c4f-8362-21c9faa77465",
   "metadata": {
    "execution": {
     "iopub.execute_input": "2022-08-05T08:46:31.316240Z",
     "iopub.status.busy": "2022-08-05T08:46:31.315975Z",
     "iopub.status.idle": "2022-08-05T08:46:31.323589Z",
     "shell.execute_reply": "2022-08-05T08:46:31.322211Z",
     "shell.execute_reply.started": "2022-08-05T08:46:31.316221Z"
    },
    "tags": []
   },
   "outputs": [
    {
     "data": {
      "text/plain": [
       "'Jim barks: Woof'"
      ]
     },
     "execution_count": 7,
     "metadata": {},
     "output_type": "execute_result"
    }
   ],
   "source": [
    "jim = Bulldog(\"Jim\", 5)\n",
    "jim.speak(\"Woof\")"
   ]
  },
  {
   "cell_type": "markdown",
   "id": "6405f68a-9c7e-4b79-b97a-d5e945f178ed",
   "metadata": {},
   "source": [
    "However, calling `.speak()` on a `JackRussellTerrier` instance won’t show the new style of output:"
   ]
  },
  {
   "cell_type": "code",
   "execution_count": 8,
   "id": "ec4f0a29-ccbe-4c24-ab0f-0954b310551f",
   "metadata": {
    "execution": {
     "iopub.execute_input": "2022-08-05T08:47:19.875313Z",
     "iopub.status.busy": "2022-08-05T08:47:19.874835Z",
     "iopub.status.idle": "2022-08-05T08:47:19.880883Z",
     "shell.execute_reply": "2022-08-05T08:47:19.880022Z",
     "shell.execute_reply.started": "2022-08-05T08:47:19.875272Z"
    }
   },
   "outputs": [
    {
     "data": {
      "text/plain": [
       "'Miles says Arf'"
      ]
     },
     "execution_count": 8,
     "metadata": {},
     "output_type": "execute_result"
    }
   ],
   "source": [
    "miles = JackRussellTerrier(\"Miles\", 4)\n",
    "miles.speak()"
   ]
  },
  {
   "cell_type": "markdown",
   "id": "33b99ee2-6b8c-48b4-b584-f58bfeb776fc",
   "metadata": {},
   "source": [
    "Sometimes it makes sense to completely override a method from a parent class. But in this instance, we don’t want the `JackRussellTerrier` class to lose any changes that might be made to the formatting of the output string of `Dog.speak()`.\n",
    "\n",
    "To do this, you still need to define a `.speak()` method on the child `JackRussellTerrier` class. But instead of explicitly defining the output string, you need to call the Dog class’s `.speak()` inside of the child class’s `.speak()` using the same arguments that you passed to `JackRussellTerrier.speak()`."
   ]
  },
  {
   "cell_type": "markdown",
   "id": "08df45e8-f98b-495e-aea9-19a2caac61e4",
   "metadata": {},
   "source": [
    "<div class=\"alert alert-block alert-info\">\n",
    "<b></b> \n",
    "You can access the parent class from inside a method of a child class by using `super()`:\n",
    "</div>"
   ]
  },
  {
   "cell_type": "code",
   "execution_count": 9,
   "id": "33227ea2-78f4-4cc8-a39f-1bf3e4f5afaf",
   "metadata": {
    "execution": {
     "iopub.execute_input": "2022-08-05T08:50:07.307705Z",
     "iopub.status.busy": "2022-08-05T08:50:07.307421Z",
     "iopub.status.idle": "2022-08-05T08:50:07.313067Z",
     "shell.execute_reply": "2022-08-05T08:50:07.311791Z",
     "shell.execute_reply.started": "2022-08-05T08:50:07.307665Z"
    }
   },
   "outputs": [],
   "source": [
    "class JackRussellTerrier(Dog):\n",
    "    def speak(self, sound=\"Arf\"):\n",
    "        return super().speak(sound)"
   ]
  },
  {
   "cell_type": "markdown",
   "id": "3009ae3c-2323-4c9e-a18f-87157554c984",
   "metadata": {},
   "source": [
    "When you call `super().speak(sound)` inside `JackRussellTerrier`, Python searches the parent class, `Dog`, for a `.speak()` method and calls it with the variable sound."
   ]
  },
  {
   "cell_type": "code",
   "execution_count": 10,
   "id": "722b0d13-82f9-430e-bf6c-003ef1aefc8a",
   "metadata": {
    "execution": {
     "iopub.execute_input": "2022-08-05T08:51:56.162285Z",
     "iopub.status.busy": "2022-08-05T08:51:56.161843Z",
     "iopub.status.idle": "2022-08-05T08:51:56.169119Z",
     "shell.execute_reply": "2022-08-05T08:51:56.167638Z",
     "shell.execute_reply.started": "2022-08-05T08:51:56.162260Z"
    }
   },
   "outputs": [],
   "source": [
    "class Dog:\n",
    "    species = \"Canis familiaris\"\n",
    "\n",
    "    def __init__(self, name, age):\n",
    "        self.name = name\n",
    "        self.age = age\n",
    "\n",
    "    def __str__(self):\n",
    "        return f\"{self.name} is {self.age} years old\"\n",
    "\n",
    "    # Change the string returned by .speak\n",
    "    def speak(self, sound):\n",
    "        return f\"{self.name} barks: {sound}\"\n",
    "    \n",
    "class JackRussellTerrier(Dog):\n",
    "    def speak(self, sound = \"Arf\"):\n",
    "        return super().speak(sound)\n",
    "\n",
    "class Dachshund(Dog):\n",
    "    pass\n",
    "\n",
    "class Bulldog(Dog):\n",
    "    pass"
   ]
  },
  {
   "cell_type": "code",
   "execution_count": 11,
   "id": "9327d7ab-2b1b-4851-ba6f-883b88b606eb",
   "metadata": {
    "execution": {
     "iopub.execute_input": "2022-08-05T08:52:07.833768Z",
     "iopub.status.busy": "2022-08-05T08:52:07.833143Z",
     "iopub.status.idle": "2022-08-05T08:52:07.841009Z",
     "shell.execute_reply": "2022-08-05T08:52:07.839271Z",
     "shell.execute_reply.started": "2022-08-05T08:52:07.833734Z"
    }
   },
   "outputs": [
    {
     "data": {
      "text/plain": [
       "'Miles barks: Arf'"
      ]
     },
     "execution_count": 11,
     "metadata": {},
     "output_type": "execute_result"
    }
   ],
   "source": [
    "miles = JackRussellTerrier(\"Miles\", 4)\n",
    "miles.speak()"
   ]
  },
  {
   "cell_type": "markdown",
   "id": "5ece37e7-ac81-4575-b051-13e7c5c2ff54",
   "metadata": {},
   "source": [
    "Now when you call `miles.speak()`, you’ll see output reflecting the new formatting in the `Dog` class."
   ]
  },
  {
   "cell_type": "markdown",
   "id": "d2f3ba64-e221-47d4-8e93-710f9aaf6869",
   "metadata": {},
   "source": [
    "<div class=\"alert alert-block alert-info\">\n",
    "<b></b> \n",
    "\n",
    "Note: In the above examples, the class hierarchy is very straightforward. The JackRussellTerrier class has a single parent class, Dog. In real-world examples, the class hierarchy can get quite complicated.\n",
    "\n",
    "super() does much more than just search the parent class for a method or an attribute. It traverses the entire class hierarchy for a matching method or attribute. If you aren’t careful, super() can have surprising results.\n",
    "</div>"
   ]
  },
  {
   "cell_type": "markdown",
   "id": "39d3f809-f002-48c5-9a53-a86b98bba2fd",
   "metadata": {},
   "source": [
    "### Practice Ques:\n",
    "\n",
    "Create a `GoldenRetriever` class that inherits from the `Dog` class. Give the sound argument of `GoldenRetriever.speak()` a default value of `\"Bark\"`. Use the following code for your parent `Dog` class:\n",
    "\n",
    "```python\n",
    "\n",
    "class Dog:\n",
    "    species = \"Canis familiaris\"\n",
    "\n",
    "    def __init__(self, name, age):\n",
    "        self.name = name\n",
    "        self.age = age\n",
    "\n",
    "    def __str__(self):\n",
    "        return f\"{self.name} is {self.age} years old\"\n",
    "\n",
    "    def speak(self, sound):\n",
    "        return f\"{self.name} says {sound}\"\n",
    "\n",
    "```"
   ]
  },
  {
   "cell_type": "code",
   "execution_count": 12,
   "id": "f374e478-5bf7-4959-9315-4e3e56789ad7",
   "metadata": {
    "execution": {
     "iopub.execute_input": "2022-08-05T08:58:16.406540Z",
     "iopub.status.busy": "2022-08-05T08:58:16.406253Z",
     "iopub.status.idle": "2022-08-05T08:58:16.413118Z",
     "shell.execute_reply": "2022-08-05T08:58:16.412136Z",
     "shell.execute_reply.started": "2022-08-05T08:58:16.406515Z"
    }
   },
   "outputs": [],
   "source": [
    "class Dog:\n",
    "    species = \"Canis familiaris\"\n",
    "\n",
    "    def __init__(self, name, age):\n",
    "        self.name = name\n",
    "        self.age = age\n",
    "\n",
    "    def __str__(self):\n",
    "        return f\"{self.name} is {self.age} years old\"\n",
    "\n",
    "    def speak(self, sound):\n",
    "        return f\"{self.name} says {sound}\"\n",
    "    \n",
    "class GoldenRetriever(Dog):\n",
    "    def speak(self, sound = \"Bark\"):\n",
    "        return super().speak(sound)"
   ]
  },
  {
   "cell_type": "code",
   "execution_count": null,
   "id": "77175e8e-03c3-4e58-b195-70759c5e1ead",
   "metadata": {},
   "outputs": [],
   "source": []
  }
 ],
 "metadata": {
  "kernelspec": {
   "display_name": "Python 3 (ipykernel)",
   "language": "python",
   "name": "python3"
  },
  "language_info": {
   "codemirror_mode": {
    "name": "ipython",
    "version": 3
   },
   "file_extension": ".py",
   "mimetype": "text/x-python",
   "name": "python",
   "nbconvert_exporter": "python",
   "pygments_lexer": "ipython3",
   "version": "3.8.10"
  }
 },
 "nbformat": 4,
 "nbformat_minor": 5
}
