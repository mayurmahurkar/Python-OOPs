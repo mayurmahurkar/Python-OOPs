{
 "cells": [
  {
   "cell_type": "markdown",
   "id": "361bddc0-b4ea-47d2-b20d-02b94943a8cc",
   "metadata": {},
   "source": [
    "## Python's Instance, Class, and Static Methods Demystified\n",
    "\n",
    "Let’s begin by writing a (Python 3) class that contains simple examples for all three method types:"
   ]
  },
  {
   "cell_type": "code",
   "execution_count": 1,
   "id": "7a9cc3f4-1582-402c-81b6-78abaeeac3b2",
   "metadata": {
    "execution": {
     "iopub.execute_input": "2022-08-06T12:07:22.372988Z",
     "iopub.status.busy": "2022-08-06T12:07:22.372738Z",
     "iopub.status.idle": "2022-08-06T12:07:22.384239Z",
     "shell.execute_reply": "2022-08-06T12:07:22.381311Z",
     "shell.execute_reply.started": "2022-08-06T12:07:22.372959Z"
    }
   },
   "outputs": [],
   "source": [
    "class MyClass:\n",
    "    def method(self):\n",
    "        return 'instance method called', self\n",
    "\n",
    "    @classmethod\n",
    "    def classmethod(cls):\n",
    "        return 'class method called', cls\n",
    "\n",
    "    @staticmethod\n",
    "    def staticmethod():\n",
    "        return 'static method called'"
   ]
  },
  {
   "cell_type": "markdown",
   "id": "3e014de3-1360-4451-8b18-858207ef9670",
   "metadata": {},
   "source": [
    "### Instance Methods\n",
    "The first method on `MyClass`, called `method`, is a regular instance method. That’s the basic, no-frills method type you’ll use most of the time. You can see the method takes one parameter, `self`, which points to an instance of `MyClass` when the method is called (but of course instance methods can accept more than just one parameter).\n",
    "\n",
    "Through the `self` parameter, instance methods can freely access attributes and other methods on the same object. This gives them a lot of power when it comes to modifying an object’s state.\n",
    "\n",
    "Not only can they modify object state, instance methods can also access the class itself through the `self.__class__` attribute. This means instance methods can also modify class state.\n",
    "\n",
    "### Class Methods\n",
    "Let’s compare that to the second method, `MyClass.classmethod`. I marked this method with a `@classmethod` decorator to flag it as a class method.\n",
    "\n",
    "Instead of accepting a `self` parameter, class methods take a `cls` parameter that points to the class—and not the object instance—when the method is called.\n",
    "\n",
    "Because the class method only has access to this `cls` argument, **it can’t modify object instance state**. That would require access to `self`. However, class methods can still modify class state that applies across all instances of the class.\n",
    "\n",
    "### Static Methods\n",
    "The third method,` MyClass.staticmethod` was marked with a `@staticmethod` decorator to flag it as a static method.\n",
    "\n",
    "This type of method takes neither a `self` nor a `cls` parameter (but of course it’s free to accept an arbitrary number of other parameters).\n",
    "\n",
    "Therefore a static method can **neither modify object state nor class state**. Static methods are restricted in what data they can access - and they’re primarily a way to namespace your methods."
   ]
  },
  {
   "cell_type": "markdown",
   "id": "9051e443-9e43-4a40-99ae-004def7b7439",
   "metadata": {},
   "source": [
    "`MyClass` was set up in such a way that each method’s implementation returns a tuple containing information for us to trace what’s going on — and which parts of the class or object the method can access.\n",
    "\n",
    "Here’s what happens when we call an *instance method*:"
   ]
  },
  {
   "cell_type": "code",
   "execution_count": 2,
   "id": "a83c66be-23ed-4e7e-a65f-e259b32fcea0",
   "metadata": {
    "execution": {
     "iopub.execute_input": "2022-08-06T12:07:22.387799Z",
     "iopub.status.busy": "2022-08-06T12:07:22.386400Z",
     "iopub.status.idle": "2022-08-06T12:07:22.401881Z",
     "shell.execute_reply": "2022-08-06T12:07:22.400683Z",
     "shell.execute_reply.started": "2022-08-06T12:07:22.387741Z"
    },
    "tags": []
   },
   "outputs": [
    {
     "data": {
      "text/plain": [
       "('instance method called', <__main__.MyClass at 0x7f9c2c351190>)"
      ]
     },
     "execution_count": 2,
     "metadata": {},
     "output_type": "execute_result"
    }
   ],
   "source": [
    "obj = MyClass()\n",
    "obj.method()"
   ]
  },
  {
   "cell_type": "markdown",
   "id": "9d9e24db-6046-4476-b99d-a43a00d9b7d8",
   "metadata": {},
   "source": [
    "This confirmed that method (the instance method) has access to the object instance (printed as `<MyClass instance>` via the `self` argument.\n",
    "\n",
    "**When the method is called, Python replaces the `self` argument with the instance object**, `obj`. We could ignore the syntactic sugar of the dot-call syntax (`obj.method()`) and pass the instance object manually to get the same result:"
   ]
  },
  {
   "cell_type": "code",
   "execution_count": 3,
   "id": "7550b588-bd27-4833-9b55-062dbf4da231",
   "metadata": {
    "execution": {
     "iopub.execute_input": "2022-08-06T12:07:22.403629Z",
     "iopub.status.busy": "2022-08-06T12:07:22.403450Z",
     "iopub.status.idle": "2022-08-06T12:07:22.410641Z",
     "shell.execute_reply": "2022-08-06T12:07:22.409719Z",
     "shell.execute_reply.started": "2022-08-06T12:07:22.403605Z"
    },
    "tags": []
   },
   "outputs": [
    {
     "data": {
      "text/plain": [
       "('instance method called', <__main__.MyClass at 0x7f9c2c351190>)"
      ]
     },
     "execution_count": 3,
     "metadata": {},
     "output_type": "execute_result"
    }
   ],
   "source": [
    "MyClass.method(obj)"
   ]
  },
  {
   "cell_type": "markdown",
   "id": "808a62b3-dcaa-4ec5-b4d4-96d2668aa080",
   "metadata": {},
   "source": [
    "Can you guess what would happen if you tried to call the method without first creating an instance?\n",
    "\n",
    "By the way, instance methods can also access the `class` itself through the `self.__class__` attribute. This makes **instance methods powerful in terms of access restrictions** - they can modify state on the object instance and on the class itself.\n",
    "\n",
    "Let’s try out the *class method* next:"
   ]
  },
  {
   "cell_type": "code",
   "execution_count": 4,
   "id": "18212bd9-a0aa-48a1-a99b-a2d7b638814d",
   "metadata": {
    "execution": {
     "iopub.execute_input": "2022-08-06T12:07:22.411807Z",
     "iopub.status.busy": "2022-08-06T12:07:22.411597Z",
     "iopub.status.idle": "2022-08-06T12:07:22.420712Z",
     "shell.execute_reply": "2022-08-06T12:07:22.419428Z",
     "shell.execute_reply.started": "2022-08-06T12:07:22.411789Z"
    },
    "tags": []
   },
   "outputs": [
    {
     "data": {
      "text/plain": [
       "('class method called', __main__.MyClass)"
      ]
     },
     "execution_count": 4,
     "metadata": {},
     "output_type": "execute_result"
    }
   ],
   "source": [
    "obj.classmethod()"
   ]
  },
  {
   "cell_type": "markdown",
   "id": "e7f4ba59-e225-425f-824d-d6e69adc3c61",
   "metadata": {},
   "source": [
    "Calling classmethod() showed us it doesn’t have access to the <MyClass instance> object, but only to the <class MyClass> object, representing the class itself (everything in Python is an object, even classes themselves).\n",
    "\n",
    "Notice how Python automatically passes the class as the first argument to the function when we call MyClass.classmethod(). Calling a method in Python through the dot syntax triggers this behavior. The self parameter on instance methods works the same way."
   ]
  },
  {
   "cell_type": "markdown",
   "id": "0dee7721-4595-4fa6-93e1-1c206d3e2a13",
   "metadata": {},
   "source": [
    "Calling `classmethod()` showed us it doesn’t have access to the `<MyClass instance>` object, but only to the `<class MyClass>` object, representing the class itself (everything in Python is an object, even classes themselves).\n",
    "\n",
    "Notice how Python automatically passes the class as the first argument to the function when we call `MyClass.classmethod()`. Calling a method in Python through the dot syntax triggers this behavior. The `self` parameter on instance methods works the same way.\n",
    "\n",
    "Please note that **naming these parameters `self` and `cls` is just a convention**. You could just as easily name them `the_object` and `the_class` and get the same result. All that matters is that *they’re positioned first in the parameter list for the method*.\n",
    "\n",
    "Time to call the *static method* now:"
   ]
  },
  {
   "cell_type": "code",
   "execution_count": 5,
   "id": "a6e1e06a-c44f-454c-9228-352e2b9e1152",
   "metadata": {
    "execution": {
     "iopub.execute_input": "2022-08-06T12:07:22.423935Z",
     "iopub.status.busy": "2022-08-06T12:07:22.423614Z",
     "iopub.status.idle": "2022-08-06T12:07:22.436685Z",
     "shell.execute_reply": "2022-08-06T12:07:22.435731Z",
     "shell.execute_reply.started": "2022-08-06T12:07:22.423908Z"
    },
    "tags": []
   },
   "outputs": [
    {
     "data": {
      "text/plain": [
       "'static method called'"
      ]
     },
     "execution_count": 5,
     "metadata": {},
     "output_type": "execute_result"
    }
   ],
   "source": [
    "obj.staticmethod()"
   ]
  },
  {
   "cell_type": "markdown",
   "id": "085b42f1-9abc-4831-a020-45fb2b47cf1b",
   "metadata": {},
   "source": [
    "Did you see how we called `staticmethod()` on the object and were able to do so successfully? Some developers are surprised when they learn that it’s possible to call a static method on an object instance.\n",
    "\n",
    "Behind the scenes Python simply enforces the access restrictions by not passing in the `self` or the `cls` argument when a static method gets called using the dot syntax.\n",
    "\n",
    "This confirms that static methods can neither access the object instance state nor the class state. They **work like regular functions but belong to the class’s (and every instance’s) namespace**.\n",
    "\n",
    "Now, let’s take a look at what happens when we attempt to call these methods on the class itself - without creating an object instance beforehand:"
   ]
  },
  {
   "cell_type": "code",
   "execution_count": 6,
   "id": "ff159dbc-490e-4ae3-b5b1-d7fb3ce1859c",
   "metadata": {
    "execution": {
     "iopub.execute_input": "2022-08-06T12:09:33.881175Z",
     "iopub.status.busy": "2022-08-06T12:09:33.880877Z",
     "iopub.status.idle": "2022-08-06T12:09:33.889365Z",
     "shell.execute_reply": "2022-08-06T12:09:33.888013Z",
     "shell.execute_reply.started": "2022-08-06T12:09:33.881152Z"
    }
   },
   "outputs": [
    {
     "data": {
      "text/plain": [
       "('class method called', __main__.MyClass)"
      ]
     },
     "execution_count": 6,
     "metadata": {},
     "output_type": "execute_result"
    }
   ],
   "source": [
    "MyClass.classmethod()"
   ]
  },
  {
   "cell_type": "code",
   "execution_count": 7,
   "id": "77a2c40e-1b34-4922-88b7-138f50ab3282",
   "metadata": {
    "execution": {
     "iopub.execute_input": "2022-08-06T12:09:40.301683Z",
     "iopub.status.busy": "2022-08-06T12:09:40.300737Z",
     "iopub.status.idle": "2022-08-06T12:09:40.308218Z",
     "shell.execute_reply": "2022-08-06T12:09:40.306469Z",
     "shell.execute_reply.started": "2022-08-06T12:09:40.301645Z"
    }
   },
   "outputs": [
    {
     "data": {
      "text/plain": [
       "'static method called'"
      ]
     },
     "execution_count": 7,
     "metadata": {},
     "output_type": "execute_result"
    }
   ],
   "source": [
    "MyClass.staticmethod()"
   ]
  },
  {
   "cell_type": "code",
   "execution_count": 8,
   "id": "cc034ea1-80bc-4064-b823-d7a7aac67acd",
   "metadata": {
    "execution": {
     "iopub.execute_input": "2022-08-06T12:09:46.432231Z",
     "iopub.status.busy": "2022-08-06T12:09:46.431743Z",
     "iopub.status.idle": "2022-08-06T12:09:46.497690Z",
     "shell.execute_reply": "2022-08-06T12:09:46.495940Z",
     "shell.execute_reply.started": "2022-08-06T12:09:46.432186Z"
    }
   },
   "outputs": [
    {
     "ename": "TypeError",
     "evalue": "method() missing 1 required positional argument: 'self'",
     "output_type": "error",
     "traceback": [
      "\u001b[0;31m---------------------------------------------------------------------------\u001b[0m",
      "\u001b[0;31mTypeError\u001b[0m                                 Traceback (most recent call last)",
      "\u001b[0;32m/tmp/ipykernel_310/715810027.py\u001b[0m in \u001b[0;36m<module>\u001b[0;34m\u001b[0m\n\u001b[0;32m----> 1\u001b[0;31m \u001b[0mMyClass\u001b[0m\u001b[0;34m.\u001b[0m\u001b[0mmethod\u001b[0m\u001b[0;34m(\u001b[0m\u001b[0;34m)\u001b[0m\u001b[0;34m\u001b[0m\u001b[0;34m\u001b[0m\u001b[0m\n\u001b[0m",
      "\u001b[0;31mTypeError\u001b[0m: method() missing 1 required positional argument: 'self'"
     ]
    }
   ],
   "source": [
    "MyClass.method()"
   ]
  },
  {
   "cell_type": "markdown",
   "id": "63462517-22ca-4fd5-95d2-d242d03c623a",
   "metadata": {},
   "source": [
    "We were able to call `classmethod()` and `staticmethod()` just fine, but attempting to call the instance method `method()` failed with a `TypeError`.\n",
    "\n",
    "And this is to be expected — this time we didn’t create an object instance and tried calling an instance function directly on the class blueprint itself. This means there is no way for Python to populate the `self` argument and therefore the call fails.\n",
    "\n",
    "This should make the distinction between these three method types a little more clear. But I’m not going to leave it at that. In the next two sections I’ll go over two slightly more realistic examples for when to use these special method types.\n",
    "\n",
    "I will base my examples around this bare-bones Pizza class:"
   ]
  },
  {
   "cell_type": "code",
   "execution_count": 9,
   "id": "84fe45c2-4916-42da-960a-7f1083cf10fe",
   "metadata": {
    "execution": {
     "iopub.execute_input": "2022-08-06T12:14:02.216175Z",
     "iopub.status.busy": "2022-08-06T12:14:02.215251Z",
     "iopub.status.idle": "2022-08-06T12:14:02.222761Z",
     "shell.execute_reply": "2022-08-06T12:14:02.221762Z",
     "shell.execute_reply.started": "2022-08-06T12:14:02.216138Z"
    }
   },
   "outputs": [],
   "source": [
    "class Pizza:\n",
    "    def __init__(self, ingredients):\n",
    "        self.ingredients = ingredients\n",
    "\n",
    "    def __repr__(self):\n",
    "        return f'Pizza({self.ingredients!r})'"
   ]
  },
  {
   "cell_type": "code",
   "execution_count": 10,
   "id": "d76181d3-2200-4285-85f7-e115dfd2cfe3",
   "metadata": {
    "execution": {
     "iopub.execute_input": "2022-08-06T12:14:08.407021Z",
     "iopub.status.busy": "2022-08-06T12:14:08.406019Z",
     "iopub.status.idle": "2022-08-06T12:14:08.412808Z",
     "shell.execute_reply": "2022-08-06T12:14:08.411812Z",
     "shell.execute_reply.started": "2022-08-06T12:14:08.406975Z"
    }
   },
   "outputs": [
    {
     "data": {
      "text/plain": [
       "Pizza(['cheese', 'tomatoes'])"
      ]
     },
     "execution_count": 10,
     "metadata": {},
     "output_type": "execute_result"
    }
   ],
   "source": [
    "Pizza(['cheese', 'tomatoes'])"
   ]
  },
  {
   "cell_type": "markdown",
   "id": "92359773-2bc9-48f9-9602-cfe50f86a1f9",
   "metadata": {},
   "source": [
    "### Delicious Pizza Factories With `@classmethod`\n",
    "\n",
    "If you’ve had any exposure to pizza in the real world you’ll know that there are many delicious variations available:\n",
    "\n",
    "```python\n",
    "Pizza(['mozzarella', 'tomatoes'])\n",
    "Pizza(['mozzarella', 'tomatoes', 'ham', 'mushrooms'])\n",
    "Pizza(['mozzarella'] * 4)\n",
    "```\n",
    "\n",
    "We’d give the users of our `Pizza` class a better interface for creating the pizza objects they crave.\n",
    "\n",
    "A nice and clean way to do that is by using class methods as factory functions for the different kinds of pizzas we can create:"
   ]
  },
  {
   "cell_type": "code",
   "execution_count": 11,
   "id": "34643a83-a9c3-46ba-a804-7674f87a3a65",
   "metadata": {
    "execution": {
     "iopub.execute_input": "2022-08-06T12:21:43.051478Z",
     "iopub.status.busy": "2022-08-06T12:21:43.050816Z",
     "iopub.status.idle": "2022-08-06T12:21:43.059279Z",
     "shell.execute_reply": "2022-08-06T12:21:43.057706Z",
     "shell.execute_reply.started": "2022-08-06T12:21:43.051431Z"
    }
   },
   "outputs": [],
   "source": [
    "class Pizza:\n",
    "    def __init__(self, ingredients):\n",
    "        self.ingredients = ingredients\n",
    "\n",
    "    def __repr__(self):\n",
    "        return f'Pizza({self.ingredients!r})'\n",
    "\n",
    "    @classmethod\n",
    "    def margherita(cls):\n",
    "        return cls(['mozzarella', 'tomatoes'])\n",
    "\n",
    "    @classmethod\n",
    "    def prosciutto(cls):\n",
    "        return cls(['mozzarella', 'tomatoes', 'ham'])"
   ]
  },
  {
   "cell_type": "markdown",
   "id": "5366bb9f-99f7-45ca-a281-eca5fc1ed42e",
   "metadata": {},
   "source": [
    "Note how I’m using the `cls` argument in the `margherita` and `prosciutto` factory methods instead of calling the `Pizza` constructor directly.\n",
    "\n",
    "This is a trick you can use to follow the **Don’t Repeat Yourself (DRY)** principle. If we decide to rename this class at some point we won’t have to remember updating the constructor name in all of the classmethod factory functions.\n",
    "\n",
    "Now, what can we do with these factory methods? Let’s try them out:"
   ]
  },
  {
   "cell_type": "code",
   "execution_count": 12,
   "id": "d9645b44-fe15-40e0-8c05-6f51ed49f893",
   "metadata": {
    "execution": {
     "iopub.execute_input": "2022-08-06T12:26:29.085006Z",
     "iopub.status.busy": "2022-08-06T12:26:29.083744Z",
     "iopub.status.idle": "2022-08-06T12:26:29.093465Z",
     "shell.execute_reply": "2022-08-06T12:26:29.091874Z",
     "shell.execute_reply.started": "2022-08-06T12:26:29.084965Z"
    }
   },
   "outputs": [
    {
     "data": {
      "text/plain": [
       "Pizza(['mozzarella', 'tomatoes'])"
      ]
     },
     "execution_count": 12,
     "metadata": {},
     "output_type": "execute_result"
    }
   ],
   "source": [
    "Pizza.margherita()"
   ]
  },
  {
   "cell_type": "code",
   "execution_count": 13,
   "id": "21336822-495a-475b-ab25-778aa7233229",
   "metadata": {
    "execution": {
     "iopub.execute_input": "2022-08-06T12:26:36.019362Z",
     "iopub.status.busy": "2022-08-06T12:26:36.018890Z",
     "iopub.status.idle": "2022-08-06T12:26:36.029079Z",
     "shell.execute_reply": "2022-08-06T12:26:36.027352Z",
     "shell.execute_reply.started": "2022-08-06T12:26:36.019314Z"
    }
   },
   "outputs": [
    {
     "data": {
      "text/plain": [
       "Pizza(['mozzarella', 'tomatoes', 'ham'])"
      ]
     },
     "execution_count": 13,
     "metadata": {},
     "output_type": "execute_result"
    }
   ],
   "source": [
    "Pizza.prosciutto()"
   ]
  },
  {
   "cell_type": "markdown",
   "id": "b3cd6f43-bd2f-4dfc-afc3-a7a2bc62e8a2",
   "metadata": {},
   "source": [
    "As you can see, we can use the factory functions to create new `Pizza` objects that are configured the way we want them. They all use the same `__init__` constructor internally and simply provide a shortcut for remembering all of the various ingredients.\n",
    "\n",
    "Another way to look at this use of class methods is that they allow you to define alternative constructors for your classes.\n",
    "\n",
    "**Python only allows one `__init__` method per class**. *Using class methods it’s possible to add as many alternative constructors as necessary*. This can make the interface for your classes self-documenting (to a certain degree) and simplify their usage."
   ]
  },
  {
   "cell_type": "markdown",
   "id": "792883dd-4055-473a-beac-942d669ed066",
   "metadata": {},
   "source": [
    "### When To Use Static Methods\n",
    "\n",
    "It’s a little more difficult to come up with a good example here. But tell you what, I’ll just keep stretching the pizza analogy thinner and thinner… (yum!)\n",
    "\n",
    "Here’s what I came up with:"
   ]
  },
  {
   "cell_type": "code",
   "execution_count": 14,
   "id": "2e0559f8-72ec-4dcc-8364-a70a9c5a1f19",
   "metadata": {
    "execution": {
     "iopub.execute_input": "2022-08-06T12:29:28.838887Z",
     "iopub.status.busy": "2022-08-06T12:29:28.837847Z",
     "iopub.status.idle": "2022-08-06T12:29:28.844862Z",
     "shell.execute_reply": "2022-08-06T12:29:28.843644Z",
     "shell.execute_reply.started": "2022-08-06T12:29:28.838856Z"
    }
   },
   "outputs": [],
   "source": [
    "import math\n",
    "\n",
    "class Pizza:\n",
    "    def __init__(self, radius, ingredients):\n",
    "        self.radius = radius\n",
    "        self.ingredients = ingredients\n",
    "\n",
    "    def __repr__(self):\n",
    "        return (f'Pizza({self.radius!r}, '\n",
    "                f'{self.ingredients!r})')\n",
    "\n",
    "    def area(self):\n",
    "        return self.circle_area(self.radius)\n",
    "\n",
    "    @staticmethod\n",
    "    def circle_area(r):\n",
    "        return r ** 2 * math.pi"
   ]
  },
  {
   "cell_type": "markdown",
   "id": "48b94c3b-9dfe-48e3-a121-e88bf40b2110",
   "metadata": {},
   "source": [
    "Now what did I change here? First, I modified the constructor and `__repr__` to accept an extra radius argument.\n",
    "\n",
    "I also added an `area()` instance method that calculates and returns the pizza’s area (this would also be a good candidate for an @property — but hey, this is just a toy example).\n",
    "\n",
    "Instead of calculating the area directly within area(), using the well-known circle area formula, I factored that out to a separate `circle_area()` static method.\n",
    "\n",
    "Let’s try it out!"
   ]
  },
  {
   "cell_type": "code",
   "execution_count": 15,
   "id": "011b6660-bb4f-479e-871e-47f55dce00ca",
   "metadata": {
    "execution": {
     "iopub.execute_input": "2022-08-06T12:32:28.513581Z",
     "iopub.status.busy": "2022-08-06T12:32:28.513268Z",
     "iopub.status.idle": "2022-08-06T12:32:28.520895Z",
     "shell.execute_reply": "2022-08-06T12:32:28.519765Z",
     "shell.execute_reply.started": "2022-08-06T12:32:28.513542Z"
    }
   },
   "outputs": [
    {
     "data": {
      "text/plain": [
       "Pizza(4, ['mozzarella', 'tomatoes'])"
      ]
     },
     "execution_count": 15,
     "metadata": {},
     "output_type": "execute_result"
    }
   ],
   "source": [
    "p = Pizza(4, ['mozzarella', 'tomatoes'])\n",
    "p"
   ]
  },
  {
   "cell_type": "code",
   "execution_count": 17,
   "id": "dea7a0ff-d0da-496b-9e59-b8a27d58a524",
   "metadata": {
    "execution": {
     "iopub.execute_input": "2022-08-06T12:32:44.188389Z",
     "iopub.status.busy": "2022-08-06T12:32:44.187547Z",
     "iopub.status.idle": "2022-08-06T12:32:44.194311Z",
     "shell.execute_reply": "2022-08-06T12:32:44.192983Z",
     "shell.execute_reply.started": "2022-08-06T12:32:44.188351Z"
    },
    "tags": []
   },
   "outputs": [
    {
     "data": {
      "text/plain": [
       "50.26548245743669"
      ]
     },
     "execution_count": 17,
     "metadata": {},
     "output_type": "execute_result"
    }
   ],
   "source": [
    "p.area()"
   ]
  },
  {
   "cell_type": "code",
   "execution_count": 18,
   "id": "8e075798-2f16-4b44-8d6e-d7431d64f685",
   "metadata": {
    "execution": {
     "iopub.execute_input": "2022-08-06T12:32:52.053924Z",
     "iopub.status.busy": "2022-08-06T12:32:52.053075Z",
     "iopub.status.idle": "2022-08-06T12:32:52.061335Z",
     "shell.execute_reply": "2022-08-06T12:32:52.060355Z",
     "shell.execute_reply.started": "2022-08-06T12:32:52.053878Z"
    }
   },
   "outputs": [
    {
     "data": {
      "text/plain": [
       "50.26548245743669"
      ]
     },
     "execution_count": 18,
     "metadata": {},
     "output_type": "execute_result"
    }
   ],
   "source": [
    "Pizza.circle_area(4)"
   ]
  },
  {
   "cell_type": "markdown",
   "id": "5e7b2df3-5a91-411e-97e7-f8be2c9d432e",
   "metadata": {},
   "source": [
    "As we’ve learned, static methods can’t access class or instance state because they don’t take a `cls` or `self` argument. That’s a big limitation — but it’s also a great signal to show that a particular method is independent from everything else around it.\n",
    "\n",
    "In the above example, it’s clear that `circle_area()` can’t modify the class or the class instance in any way. (Sure, you could always work around that with a global variable but that’s not the point here.)\n",
    "\n",
    "Now, why is that useful?\n",
    "\n",
    "Flagging a method as a static method is not just a hint that a method won’t modify class or instance state — this restriction is also enforced by the Python runtime.\n",
    "\n",
    "Techniques like that allow you to communicate clearly about parts of your class architecture so that new development work is naturally guided to happen within these set boundaries. Of course, it would be easy enough to defy these restrictions. But in practice they often help avoid accidental modifications going against the original design.\n",
    "\n",
    "Put differently, using static methods and class methods are ways to communicate developer intent while enforcing that intent enough to avoid most slip of the mind mistakes and bugs that would break the design.\n",
    "\n",
    "Applied sparingly and when it makes sense, writing some of your methods that way can provide maintenance benefits and make it less likely that other developers use your classes incorrectly.\n",
    "\n",
    "Static methods also have benefits when it comes to writing test code.\n",
    "\n",
    "Because the `circle_area()` method is completely independent from the rest of the class it’s much easier to test.\n",
    "\n",
    "We don’t have to worry about setting up a complete class instance before we can test the method in a unit test. We can just fire away like we would testing a regular function. Again, this makes future maintenance easier.\n",
    "\n",
    "## Key Takeaways\n",
    "- Instance methods need a class instance and can access the instance through `self`.\n",
    "\n",
    "\n",
    "- Class methods don’t need a class instance. They can’t access the instance (`self`) but they have access to the class itself via `cls`.\n",
    "\n",
    "\n",
    "- Static methods don’t have access to `cls` or `self`. They work like regular functions but belong to the class’s namespace.\n",
    "\n",
    "\n",
    "- Static and class methods communicate and (to a certain degree) enforce developer intent about class design. This can have maintenance benefits."
   ]
  },
  {
   "cell_type": "code",
   "execution_count": null,
   "id": "a88f7764-3149-4e02-8f22-1738d1db0d2e",
   "metadata": {},
   "outputs": [],
   "source": []
  }
 ],
 "metadata": {
  "kernelspec": {
   "display_name": "Python 3 (ipykernel)",
   "language": "python",
   "name": "python3"
  },
  "language_info": {
   "codemirror_mode": {
    "name": "ipython",
    "version": 3
   },
   "file_extension": ".py",
   "mimetype": "text/x-python",
   "name": "python",
   "nbconvert_exporter": "python",
   "pygments_lexer": "ipython3",
   "version": "3.8.10"
  }
 },
 "nbformat": 4,
 "nbformat_minor": 5
}
