{
 "cells": [
  {
   "cell_type": "markdown",
   "id": "ba1498ce-e3ff-472a-b9c0-06ae10da35ec",
   "metadata": {},
   "source": [
    "### Classes vs Instances\n",
    "\n",
    "Classes are used to create user-defined data structures. Classes define functions called **methods**, which identify the behaviors and actions that an object created from the class can perform with its data. We'll create a `Dog` class that stores some information about the characteristics and behaviors that an individual dog can have.\n",
    "\n",
    "A class is a blueprint for how something should be defined. It doesn’t actually contain any data. The `Dog` class specifies that a name and an age are necessary for defining a dog, but it doesn’t contain the name or age of any specific dog.\n",
    "\n",
    "While the class is the *blueprint*, an **instance** is an object that is built from a class and contains real data. An instance of the Dog class is not a blueprint anymore. It’s an actual dog with a name, like Miles, who’s four years old.\n",
    "\n",
    "Put another way, a class is like a form or questionnaire. An instance is like a form that has been filled out with information. Just like many people can fill out the same form with their own unique information, many instances can be created from a single class."
   ]
  },
  {
   "cell_type": "code",
   "execution_count": 1,
   "id": "38876837-cf6b-4830-9d50-188310541a31",
   "metadata": {
    "execution": {
     "iopub.execute_input": "2022-08-04T18:20:42.002745Z",
     "iopub.status.busy": "2022-08-04T18:20:42.002521Z",
     "iopub.status.idle": "2022-08-04T18:20:42.005666Z",
     "shell.execute_reply": "2022-08-04T18:20:42.005159Z",
     "shell.execute_reply.started": "2022-08-04T18:20:42.002728Z"
    }
   },
   "outputs": [],
   "source": [
    "# Dog class\n",
    "\n",
    "class Dog:\n",
    "    pass"
   ]
  },
  {
   "cell_type": "markdown",
   "id": "39ba9e85-d64e-4b5b-8288-4ef3db6ac9ff",
   "metadata": {},
   "source": [
    "The body of the `Dog` class consists of a single statement: the `pass` keyword. `pass` is often used as a *placeholder* indicating where code will eventually go. It allows you to run this code without Python throwing an error."
   ]
  },
  {
   "cell_type": "markdown",
   "id": "3079229f-8a83-4208-8913-109388c3788b",
   "metadata": {},
   "source": [
    "<div class=\"alert alert-block alert-warning\">\n",
    "<b></b> Python class names are written in CapitalizedWords notation by convention. For example, a class for a specific breed of dog like the Jack Russell Terrier would be written as `JackRussellTerrier`.\n",
    "</div>"
   ]
  },
  {
   "cell_type": "markdown",
   "id": "2bc842e2-af0d-4529-918e-dd8e755b5af1",
   "metadata": {},
   "source": [
    "There are a number of properties that we can choose from, including name, age, coat color, and breed our `Dog` objects can have. To keep things simple, we’ll just use `name` and `age`."
   ]
  },
  {
   "cell_type": "code",
   "execution_count": 2,
   "id": "b0fb02a6-4b18-4a44-aacf-1201d4ffab76",
   "metadata": {
    "execution": {
     "iopub.execute_input": "2022-08-04T18:27:24.725604Z",
     "iopub.status.busy": "2022-08-04T18:27:24.725388Z",
     "iopub.status.idle": "2022-08-04T18:27:24.728661Z",
     "shell.execute_reply": "2022-08-04T18:27:24.728165Z",
     "shell.execute_reply.started": "2022-08-04T18:27:24.725587Z"
    }
   },
   "outputs": [],
   "source": [
    "class Dog:\n",
    "    def __init__(self, name, age):\n",
    "        self.name = name\n",
    "        self.age = age"
   ]
  },
  {
   "cell_type": "markdown",
   "id": "456ae334-fa7c-489f-94c3-28a89dcddee8",
   "metadata": {},
   "source": [
    "The properties that all Dog objects must have are defined in a method called `.__init__()`. \n",
    "\n",
    "Every time a new Dog object is created, `.__init__()` sets the initial state of the object by assigning the values of the object’s properties. That is, `.__init__()` initializes each new instance of the class. You can give `.__init__()` any number of parameters, but the first parameter will always be a variable called `self`.\n",
    "\n",
    "When a new class instance is created, the instance is automatically passed to the self parameter in `.__init__()` so that new attributes can be defined on the object.\n",
    "\n",
    "In the body of `.__init__()`, there are two statements using the self variable:\n",
    "\n",
    "- `self.name = name` creates an attribute called `name` and assigns to it the value of the name parameter.\n",
    "- `self.age = age` creates an attribute called `age` and assigns to it the value of the age parameter."
   ]
  },
  {
   "cell_type": "markdown",
   "id": "46bf5854-db7f-400a-9712-db456e74c171",
   "metadata": {},
   "source": [
    "Attributes created in `.__init__()` are called **instance attributes**. An instance attribute’s value is specific to a particular instance of the class. All `Dog` objects have a name and an age, but the values for the `name` and `age` attributes will vary depending on the Dog instance.\n",
    "\n",
    "On the other hand, class attributes are attributes that have the same value for all class instances. You can define a class attribute by assigning a value to a variable name outside of `.__init__()`.\n",
    "\n",
    "For example, the following `Dog` class has a class attribute called `species` with the value \"`Canis familiaris`\":"
   ]
  },
  {
   "cell_type": "code",
   "execution_count": 3,
   "id": "a0bfb0f2-2afe-4c3b-adf1-4eee1f9b27c9",
   "metadata": {
    "execution": {
     "iopub.execute_input": "2022-08-04T18:42:12.944259Z",
     "iopub.status.busy": "2022-08-04T18:42:12.943502Z",
     "iopub.status.idle": "2022-08-04T18:42:12.948177Z",
     "shell.execute_reply": "2022-08-04T18:42:12.947502Z",
     "shell.execute_reply.started": "2022-08-04T18:42:12.944225Z"
    }
   },
   "outputs": [],
   "source": [
    "class Dog:\n",
    "    #class atrribute\n",
    "    species = \"Canis familiaris\"\n",
    "    \n",
    "    def __init__(self, name, age):\n",
    "        self.name = name\n",
    "        self.age = age"
   ]
  },
  {
   "cell_type": "markdown",
   "id": "e1e32c1f-d386-4864-8cf2-f75ef87a70d5",
   "metadata": {},
   "source": [
    "Class attributes must always be assigned an initial value. When an instance of the class is created, class attributes are automatically created and assigned to their initial values."
   ]
  },
  {
   "cell_type": "markdown",
   "id": "eaedfc2c-4406-4d38-bc01-7de68afde3de",
   "metadata": {},
   "source": [
    "<div class=\"alert alert-block alert-info\">\n",
    "<b></b> Use class attributes to define properties that should have the same value for every class instance. Use instance attributes for properties that vary from one instance to another.\n",
    "</div>"
   ]
  },
  {
   "cell_type": "markdown",
   "id": "2333a641-a91f-42bb-ab50-faca531137cd",
   "metadata": {},
   "source": [
    "## Instantiate an Object in Python"
   ]
  },
  {
   "cell_type": "markdown",
   "id": "4aba8bfc-f930-4f5f-bc20-83aba5d34b00",
   "metadata": {},
   "source": [
    "Creating a new object from a class is called **instantiating** an object. You can instantiate a new Dog object by typing the name of the class, followed by opening and closing parentheses:"
   ]
  },
  {
   "cell_type": "code",
   "execution_count": 5,
   "id": "18d1da32-2df9-4d9f-afe6-7421c11f1e77",
   "metadata": {
    "execution": {
     "iopub.execute_input": "2022-08-04T18:45:55.686232Z",
     "iopub.status.busy": "2022-08-04T18:45:55.685657Z",
     "iopub.status.idle": "2022-08-04T18:45:55.689543Z",
     "shell.execute_reply": "2022-08-04T18:45:55.689067Z",
     "shell.execute_reply.started": "2022-08-04T18:45:55.686208Z"
    },
    "tags": []
   },
   "outputs": [
    {
     "data": {
      "text/plain": [
       "<__main__.Dog at 0x7ff0942a7e20>"
      ]
     },
     "execution_count": 5,
     "metadata": {},
     "output_type": "execute_result"
    }
   ],
   "source": [
    "class Dog:\n",
    "    pass\n",
    "\n",
    "Dog()"
   ]
  },
  {
   "cell_type": "markdown",
   "id": "85ce8bff-f684-47f3-a717-f4affadf2886",
   "metadata": {},
   "source": [
    "This creates a new Dog class with no attributes or methods.\n",
    "\n",
    "The funny-looking string of letters and numbers is a memory address that indicates where the `Dog` object is stored in your computer’s memory. \n",
    "\n",
    "Now instantiate a second Dog object:"
   ]
  },
  {
   "cell_type": "code",
   "execution_count": 6,
   "id": "71de1091-6f02-42a4-94d6-5105e7c4b14e",
   "metadata": {
    "execution": {
     "iopub.execute_input": "2022-08-04T18:48:59.441111Z",
     "iopub.status.busy": "2022-08-04T18:48:59.440691Z",
     "iopub.status.idle": "2022-08-04T18:48:59.444484Z",
     "shell.execute_reply": "2022-08-04T18:48:59.444026Z",
     "shell.execute_reply.started": "2022-08-04T18:48:59.441094Z"
    }
   },
   "outputs": [
    {
     "data": {
      "text/plain": [
       "<__main__.Dog at 0x7ff0942a75e0>"
      ]
     },
     "execution_count": 6,
     "metadata": {},
     "output_type": "execute_result"
    }
   ],
   "source": [
    "Dog()"
   ]
  },
  {
   "cell_type": "markdown",
   "id": "206296da-0403-4aad-b042-f03b443d353b",
   "metadata": {},
   "source": [
    "The new `Dog` instance is located at a different memory address. That’s because it’s an entirely new instance and is completely unique from the first `Dog` object that you instantiated.\n",
    "\n",
    "To see this another way, type the following:"
   ]
  },
  {
   "cell_type": "code",
   "execution_count": 7,
   "id": "061b5e8f-2b81-431a-b433-9193d0eef6a0",
   "metadata": {
    "execution": {
     "iopub.execute_input": "2022-08-04T18:50:29.872532Z",
     "iopub.status.busy": "2022-08-04T18:50:29.871988Z",
     "iopub.status.idle": "2022-08-04T18:50:29.875898Z",
     "shell.execute_reply": "2022-08-04T18:50:29.875329Z",
     "shell.execute_reply.started": "2022-08-04T18:50:29.872514Z"
    }
   },
   "outputs": [
    {
     "data": {
      "text/plain": [
       "False"
      ]
     },
     "execution_count": 7,
     "metadata": {},
     "output_type": "execute_result"
    }
   ],
   "source": [
    "a = Dog()\n",
    "b = Dog()\n",
    "a == b"
   ]
  },
  {
   "cell_type": "markdown",
   "id": "a5e60dc3-8d8b-4f9b-86ce-ff1743d26c9b",
   "metadata": {},
   "source": [
    "Even though `a` and `b` are both instances of the Dog class, they represent two distinct objects in memory."
   ]
  },
  {
   "cell_type": "markdown",
   "id": "7c83b659-ebd1-431d-9a0a-86a98d2d7f68",
   "metadata": {},
   "source": [
    "## Class and Instance Attributes\n",
    "\n",
    "Now create a new `Dog` class with a class attribute called `.species` and two instance attributes called `.name` and `.age`:"
   ]
  },
  {
   "cell_type": "code",
   "execution_count": 8,
   "id": "f5c47a7a-6d45-4665-afc9-667210664d50",
   "metadata": {
    "execution": {
     "iopub.execute_input": "2022-08-04T18:54:48.535523Z",
     "iopub.status.busy": "2022-08-04T18:54:48.535320Z",
     "iopub.status.idle": "2022-08-04T18:54:48.538780Z",
     "shell.execute_reply": "2022-08-04T18:54:48.538251Z",
     "shell.execute_reply.started": "2022-08-04T18:54:48.535506Z"
    }
   },
   "outputs": [],
   "source": [
    "class Dog:\n",
    "    species = \"Canis familiaris\"\n",
    "    \n",
    "    def __init__(self, name, age):\n",
    "        self.name = name\n",
    "        self.age = age"
   ]
  },
  {
   "cell_type": "code",
   "execution_count": 9,
   "id": "b1805233-a098-4324-b94e-e5a6368fc4a2",
   "metadata": {
    "execution": {
     "iopub.execute_input": "2022-08-04T18:55:21.945082Z",
     "iopub.status.busy": "2022-08-04T18:55:21.944843Z",
     "iopub.status.idle": "2022-08-04T18:55:22.015798Z",
     "shell.execute_reply": "2022-08-04T18:55:22.014856Z",
     "shell.execute_reply.started": "2022-08-04T18:55:21.945064Z"
    }
   },
   "outputs": [
    {
     "ename": "TypeError",
     "evalue": "__init__() missing 2 required positional arguments: 'name' and 'age'",
     "output_type": "error",
     "traceback": [
      "\u001b[0;31m---------------------------------------------------------------------------\u001b[0m",
      "\u001b[0;31mTypeError\u001b[0m                                 Traceback (most recent call last)",
      "\u001b[0;32m/tmp/ipykernel_266/2601650736.py\u001b[0m in \u001b[0;36m<module>\u001b[0;34m\u001b[0m\n\u001b[0;32m----> 1\u001b[0;31m \u001b[0mDog\u001b[0m\u001b[0;34m(\u001b[0m\u001b[0;34m)\u001b[0m\u001b[0;34m\u001b[0m\u001b[0;34m\u001b[0m\u001b[0m\n\u001b[0m",
      "\u001b[0;31mTypeError\u001b[0m: __init__() missing 2 required positional arguments: 'name' and 'age'"
     ]
    }
   ],
   "source": [
    "Dog()"
   ]
  },
  {
   "cell_type": "markdown",
   "id": "0ea51186-5e51-421e-a692-ec5872b7cac7",
   "metadata": {},
   "source": [
    "To instantiate objects of this `Dog` class, you need to provide values for the `name` and `age`. If you don’t, then Python raises a `TypeError`:"
   ]
  },
  {
   "cell_type": "code",
   "execution_count": 10,
   "id": "8cf309bd-aaef-4b65-be52-5e1c934a977e",
   "metadata": {
    "execution": {
     "iopub.execute_input": "2022-08-04T18:56:22.363125Z",
     "iopub.status.busy": "2022-08-04T18:56:22.362648Z",
     "iopub.status.idle": "2022-08-04T18:56:22.365878Z",
     "shell.execute_reply": "2022-08-04T18:56:22.365334Z",
     "shell.execute_reply.started": "2022-08-04T18:56:22.363107Z"
    }
   },
   "outputs": [],
   "source": [
    "buddy = Dog(\"Buddy\", 9)\n",
    "miles = Dog(\"Miles\", 4)"
   ]
  },
  {
   "cell_type": "markdown",
   "id": "d0af7183-36aa-4b5b-a906-a3b8e0a57616",
   "metadata": {},
   "source": [
    "This creates two new Dog instances—one for a nine-year-old dog named Buddy and one for a four-year-old dog named Miles."
   ]
  },
  {
   "cell_type": "markdown",
   "id": "0f32d607-f9a6-49dc-ac5e-6bfd5953e975",
   "metadata": {
    "execution": {
     "iopub.execute_input": "2022-08-04T18:58:41.383423Z",
     "iopub.status.busy": "2022-08-04T18:58:41.382907Z",
     "iopub.status.idle": "2022-08-04T18:58:41.386806Z",
     "shell.execute_reply": "2022-08-04T18:58:41.386209Z",
     "shell.execute_reply.started": "2022-08-04T18:58:41.383396Z"
    }
   },
   "source": [
    "<div class=\"alert alert-block alert-info\">\n",
    "<b>The Dog class’s .__init__() method has three parameters, so why are only two arguments passed to it in the example?</b> \n",
    "    When you instantiate a Dog object, Python creates a new instance and passes it to the first parameter of .__init__(). This essentially removes the self parameter, so you only need to worry about the name and age parameters.\n",
    "</div>"
   ]
  },
  {
   "cell_type": "code",
   "execution_count": 14,
   "id": "145fca93-dabf-49b8-bfe2-22982d5dddd3",
   "metadata": {
    "execution": {
     "iopub.execute_input": "2022-08-04T19:02:13.496719Z",
     "iopub.status.busy": "2022-08-04T19:02:13.496543Z",
     "iopub.status.idle": "2022-08-04T19:02:13.500972Z",
     "shell.execute_reply": "2022-08-04T19:02:13.500452Z",
     "shell.execute_reply.started": "2022-08-04T19:02:13.496703Z"
    },
    "tags": []
   },
   "outputs": [
    {
     "data": {
      "text/plain": [
       "'Buddy'"
      ]
     },
     "execution_count": 14,
     "metadata": {},
     "output_type": "execute_result"
    }
   ],
   "source": [
    "buddy.name"
   ]
  },
  {
   "cell_type": "code",
   "execution_count": 15,
   "id": "a050f596-d8ea-4659-8dc9-eb2327bdab63",
   "metadata": {
    "execution": {
     "iopub.execute_input": "2022-08-04T19:02:14.084179Z",
     "iopub.status.busy": "2022-08-04T19:02:14.084014Z",
     "iopub.status.idle": "2022-08-04T19:02:14.088632Z",
     "shell.execute_reply": "2022-08-04T19:02:14.087891Z",
     "shell.execute_reply.started": "2022-08-04T19:02:14.084164Z"
    },
    "tags": []
   },
   "outputs": [
    {
     "data": {
      "text/plain": [
       "9"
      ]
     },
     "execution_count": 15,
     "metadata": {},
     "output_type": "execute_result"
    }
   ],
   "source": [
    "buddy.age"
   ]
  },
  {
   "cell_type": "code",
   "execution_count": 16,
   "id": "6228db87-4042-456e-b3a5-2ce1c22bae6c",
   "metadata": {
    "execution": {
     "iopub.execute_input": "2022-08-04T19:02:14.757369Z",
     "iopub.status.busy": "2022-08-04T19:02:14.757199Z",
     "iopub.status.idle": "2022-08-04T19:02:14.761671Z",
     "shell.execute_reply": "2022-08-04T19:02:14.760897Z",
     "shell.execute_reply.started": "2022-08-04T19:02:14.757354Z"
    },
    "tags": []
   },
   "outputs": [
    {
     "data": {
      "text/plain": [
       "'Miles'"
      ]
     },
     "execution_count": 16,
     "metadata": {},
     "output_type": "execute_result"
    }
   ],
   "source": [
    "miles.name"
   ]
  },
  {
   "cell_type": "code",
   "execution_count": 17,
   "id": "0724440c-07c8-438c-9fb2-f225fdb38d5d",
   "metadata": {
    "execution": {
     "iopub.execute_input": "2022-08-04T19:02:15.282226Z",
     "iopub.status.busy": "2022-08-04T19:02:15.281707Z",
     "iopub.status.idle": "2022-08-04T19:02:15.286000Z",
     "shell.execute_reply": "2022-08-04T19:02:15.285520Z",
     "shell.execute_reply.started": "2022-08-04T19:02:15.282186Z"
    },
    "tags": []
   },
   "outputs": [
    {
     "data": {
      "text/plain": [
       "4"
      ]
     },
     "execution_count": 17,
     "metadata": {},
     "output_type": "execute_result"
    }
   ],
   "source": [
    "miles.age"
   ]
  },
  {
   "cell_type": "code",
   "execution_count": 18,
   "id": "24b15c0c-ddec-4069-8b13-d399b0ce8057",
   "metadata": {
    "execution": {
     "iopub.execute_input": "2022-08-04T19:02:30.130243Z",
     "iopub.status.busy": "2022-08-04T19:02:30.130064Z",
     "iopub.status.idle": "2022-08-04T19:02:30.133948Z",
     "shell.execute_reply": "2022-08-04T19:02:30.133400Z",
     "shell.execute_reply.started": "2022-08-04T19:02:30.130227Z"
    }
   },
   "outputs": [
    {
     "data": {
      "text/plain": [
       "'Canis familiaris'"
      ]
     },
     "execution_count": 18,
     "metadata": {},
     "output_type": "execute_result"
    }
   ],
   "source": [
    "buddy.species"
   ]
  },
  {
   "cell_type": "markdown",
   "id": "26f7ef5f-5356-455d-aa0b-b7b2b8cb5dbc",
   "metadata": {},
   "source": [
    "All `Dog` instances have `.species`, `.name`, and `.age` attributes, so you can use those attributes with confidence knowing that they will always return a value."
   ]
  },
  {
   "cell_type": "code",
   "execution_count": 19,
   "id": "fc4480cc-6ae9-47a6-92c8-bb0d17d09469",
   "metadata": {
    "execution": {
     "iopub.execute_input": "2022-08-04T19:05:47.887607Z",
     "iopub.status.busy": "2022-08-04T19:05:47.887395Z",
     "iopub.status.idle": "2022-08-04T19:05:47.891559Z",
     "shell.execute_reply": "2022-08-04T19:05:47.890983Z",
     "shell.execute_reply.started": "2022-08-04T19:05:47.887589Z"
    }
   },
   "outputs": [
    {
     "data": {
      "text/plain": [
       "10"
      ]
     },
     "execution_count": 19,
     "metadata": {},
     "output_type": "execute_result"
    }
   ],
   "source": [
    "buddy.age = 10\n",
    "buddy.age"
   ]
  },
  {
   "cell_type": "code",
   "execution_count": 20,
   "id": "229c9d73-4555-4416-88bb-e4187ebc3823",
   "metadata": {
    "execution": {
     "iopub.execute_input": "2022-08-04T19:06:33.037445Z",
     "iopub.status.busy": "2022-08-04T19:06:33.036936Z",
     "iopub.status.idle": "2022-08-04T19:06:33.040884Z",
     "shell.execute_reply": "2022-08-04T19:06:33.040353Z",
     "shell.execute_reply.started": "2022-08-04T19:06:33.037424Z"
    }
   },
   "outputs": [
    {
     "data": {
      "text/plain": [
       "'Felis silvestris'"
      ]
     },
     "execution_count": 20,
     "metadata": {},
     "output_type": "execute_result"
    }
   ],
   "source": [
    "miles.species = \"Felis silvestris\"\n",
    "miles.species"
   ]
  },
  {
   "cell_type": "markdown",
   "id": "58633f9d-8921-4320-82c6-1151fb4bd737",
   "metadata": {},
   "source": [
    "In this example, you change the `.age` attribute of the `buddy` object to 10. Then you change the `.species` attribute of the `miles` object to \"Felis silvestris\""
   ]
  },
  {
   "cell_type": "markdown",
   "id": "46b40ce5-9828-4c16-80fd-635418bc667c",
   "metadata": {
    "tags": []
   },
   "source": [
    "## Instance Methods\n",
    "\n",
    "Instance methods are functions that are defined inside a class and can only be called from an instance of that class. Just like `.__init__()`, an instance method’s first parameter is always `self`."
   ]
  },
  {
   "cell_type": "code",
   "execution_count": 1,
   "id": "c9654163-0622-4d73-a2b5-4fa3ed6101b4",
   "metadata": {
    "execution": {
     "iopub.execute_input": "2022-08-05T05:47:07.084100Z",
     "iopub.status.busy": "2022-08-05T05:47:07.083922Z",
     "iopub.status.idle": "2022-08-05T05:47:07.087234Z",
     "shell.execute_reply": "2022-08-05T05:47:07.086736Z",
     "shell.execute_reply.started": "2022-08-05T05:47:07.084086Z"
    }
   },
   "outputs": [],
   "source": [
    "class Dog:\n",
    "    species = \"Canis familiaris\"\n",
    "    \n",
    "    def __init__(self, name, age):\n",
    "        self.name = name\n",
    "        self.age = age\n",
    "        \n",
    "    #Intance method\n",
    "    def description(self):\n",
    "        return f\"{self.name} is {self.age} years old\"\n",
    "    \n",
    "    #Another instance method\n",
    "    def speak(self, sound):\n",
    "        return f\"{self.name} says {sound}\""
   ]
  },
  {
   "cell_type": "markdown",
   "id": "c3b6eac5-cff3-4dc3-8f48-87b49e6200e1",
   "metadata": {},
   "source": [
    "This Dog class has two instance methods:\n",
    "\n",
    "- `.description()` returns a string displaying the name and age of the dog.\n",
    "- `.speak()` has one parameter called `sound` and returns a string containing the dog’s name and the sound the dog makes."
   ]
  },
  {
   "cell_type": "code",
   "execution_count": 2,
   "id": "125f5db2-cf03-47fd-8d50-d40b6119d1d0",
   "metadata": {
    "execution": {
     "iopub.execute_input": "2022-08-05T05:48:40.175318Z",
     "iopub.status.busy": "2022-08-05T05:48:40.175118Z",
     "iopub.status.idle": "2022-08-05T05:48:40.178729Z",
     "shell.execute_reply": "2022-08-05T05:48:40.178278Z",
     "shell.execute_reply.started": "2022-08-05T05:48:40.175303Z"
    }
   },
   "outputs": [
    {
     "data": {
      "text/plain": [
       "'Miles is 4 years old'"
      ]
     },
     "execution_count": 2,
     "metadata": {},
     "output_type": "execute_result"
    }
   ],
   "source": [
    "miles = Dog(\"Miles\", 4)\n",
    "miles.description()"
   ]
  },
  {
   "cell_type": "code",
   "execution_count": 3,
   "id": "876ad879-67be-4142-8786-437ace8ee145",
   "metadata": {
    "execution": {
     "iopub.execute_input": "2022-08-05T05:48:58.518783Z",
     "iopub.status.busy": "2022-08-05T05:48:58.518213Z",
     "iopub.status.idle": "2022-08-05T05:48:58.522051Z",
     "shell.execute_reply": "2022-08-05T05:48:58.521437Z",
     "shell.execute_reply.started": "2022-08-05T05:48:58.518763Z"
    }
   },
   "outputs": [
    {
     "data": {
      "text/plain": [
       "'Miles says Woof Woof'"
      ]
     },
     "execution_count": 3,
     "metadata": {},
     "output_type": "execute_result"
    }
   ],
   "source": [
    "miles.speak(\"Woof Woof\")"
   ]
  },
  {
   "cell_type": "code",
   "execution_count": 4,
   "id": "ac8bcf66-e0a9-4f67-8c8a-d72bd427ff62",
   "metadata": {
    "execution": {
     "iopub.execute_input": "2022-08-05T05:49:24.397369Z",
     "iopub.status.busy": "2022-08-05T05:49:24.396924Z",
     "iopub.status.idle": "2022-08-05T05:49:24.400454Z",
     "shell.execute_reply": "2022-08-05T05:49:24.399960Z",
     "shell.execute_reply.started": "2022-08-05T05:49:24.397353Z"
    }
   },
   "outputs": [
    {
     "data": {
      "text/plain": [
       "'Miles says Bhow Bhow'"
      ]
     },
     "execution_count": 4,
     "metadata": {},
     "output_type": "execute_result"
    }
   ],
   "source": [
    "miles.speak(\"Bhow Bhow\")"
   ]
  },
  {
   "cell_type": "markdown",
   "id": "6142a254-6a52-4cda-a993-8445f44c462e",
   "metadata": {},
   "source": [
    "When writing your own classes, it’s a good idea to have a method that returns a string containing useful information about an instance of the class. However, `.description()` isn’t the most Pythonic way of doing this.\n",
    "\n",
    "Let’s see what happens when you `print()` the `miles` object:"
   ]
  },
  {
   "cell_type": "code",
   "execution_count": 5,
   "id": "e08481b0-98af-4a68-8645-5f7ea8b87036",
   "metadata": {
    "execution": {
     "iopub.execute_input": "2022-08-05T05:51:05.960021Z",
     "iopub.status.busy": "2022-08-05T05:51:05.959805Z",
     "iopub.status.idle": "2022-08-05T05:51:05.962973Z",
     "shell.execute_reply": "2022-08-05T05:51:05.962506Z",
     "shell.execute_reply.started": "2022-08-05T05:51:05.960006Z"
    }
   },
   "outputs": [
    {
     "name": "stdout",
     "output_type": "stream",
     "text": [
      "<__main__.Dog object at 0x7f82846fb9a0>\n"
     ]
    }
   ],
   "source": [
    "print(miles)"
   ]
  },
  {
   "cell_type": "markdown",
   "id": "b37ac83c-3e68-4c5d-818c-cda7376553e6",
   "metadata": {},
   "source": [
    "You can change what gets printed by defining a special instance method called `.__str__()`.\n",
    "\n",
    "So, we change the name of the `Dog` class’s `.description()` method to `.__str__()`:"
   ]
  },
  {
   "cell_type": "code",
   "execution_count": 6,
   "id": "f62a901f-15ad-48a4-b746-8665217b087b",
   "metadata": {
    "execution": {
     "iopub.execute_input": "2022-08-05T05:53:14.027310Z",
     "iopub.status.busy": "2022-08-05T05:53:14.027125Z",
     "iopub.status.idle": "2022-08-05T05:53:14.030376Z",
     "shell.execute_reply": "2022-08-05T05:53:14.029903Z",
     "shell.execute_reply.started": "2022-08-05T05:53:14.027295Z"
    }
   },
   "outputs": [],
   "source": [
    "class Dog:\n",
    "    species = \"Canis familiaris\"\n",
    "    \n",
    "    def __init__(self, name, age):\n",
    "        self.name = name\n",
    "        self.age = age\n",
    "        \n",
    "    #Intance method\n",
    "    def __str__(self):\n",
    "        return f\"{self.name} is {self.age} years old\"\n",
    "    \n",
    "    #Another instance method\n",
    "    def speak(self, sound):\n",
    "        return f\"{self.name} says {sound}\""
   ]
  },
  {
   "cell_type": "code",
   "execution_count": 8,
   "id": "b6b6cc4b-74d2-47ae-9b3d-e76e98f9be73",
   "metadata": {
    "execution": {
     "iopub.execute_input": "2022-08-05T05:53:39.490223Z",
     "iopub.status.busy": "2022-08-05T05:53:39.489739Z",
     "iopub.status.idle": "2022-08-05T05:53:39.493211Z",
     "shell.execute_reply": "2022-08-05T05:53:39.492689Z",
     "shell.execute_reply.started": "2022-08-05T05:53:39.490205Z"
    },
    "tags": []
   },
   "outputs": [
    {
     "name": "stdout",
     "output_type": "stream",
     "text": [
      "Miles is 4 years old\n"
     ]
    }
   ],
   "source": [
    "miles = Dog(\"Miles\", 4)\n",
    "print(miles)"
   ]
  },
  {
   "cell_type": "markdown",
   "id": "74b68820-d525-4a3f-95d2-416f843a50c5",
   "metadata": {},
   "source": [
    "Methods like `.__init__()` and `.__str__()` are called **dunder** methods because they begin and end with double underscores. There are many dunder methods that you can use to customize classes in Python.\n",
    "\n",
    "### Practice Ques:\n",
    "\n",
    "Create a `Car` class with two instance attributes:\n",
    "\n",
    "1. `.color`, which stores the name of the car’s color as a string\n",
    "2. `.mileage`, which stores the number of miles on the car as an integer\n",
    "\n",
    "Then instantiate two `Car` objects—a blue car with 20,000 miles and a red car with 30,000 miles—and print out their colors and mileage. Your output should look like this:\n",
    "\n",
    "```\n",
    "The blue car has 20,000 miles.\n",
    "The red car has 30,000 miles.\n",
    "```"
   ]
  },
  {
   "cell_type": "code",
   "execution_count": 10,
   "id": "f01d1231-deaa-4c1c-83c7-c5fe0b05c610",
   "metadata": {
    "execution": {
     "iopub.execute_input": "2022-08-05T06:01:26.666720Z",
     "iopub.status.busy": "2022-08-05T06:01:26.666182Z",
     "iopub.status.idle": "2022-08-05T06:01:26.670765Z",
     "shell.execute_reply": "2022-08-05T06:01:26.670268Z",
     "shell.execute_reply.started": "2022-08-05T06:01:26.666673Z"
    },
    "tags": []
   },
   "outputs": [
    {
     "name": "stdout",
     "output_type": "stream",
     "text": [
      "The blue car has 20000 miles.\n",
      "The red car has 30000 miles.\n"
     ]
    }
   ],
   "source": [
    "class Car:\n",
    "    \n",
    "    def __init__(self, color, mileage):\n",
    "        \n",
    "        self.color = color\n",
    "        self.mileage = mileage\n",
    "        \n",
    "    def display(self):\n",
    "        print(f\"The {self.color} car has {self.mileage} miles.\")\n",
    "        \n",
    "blue_car = Car(color = \"blue\", mileage = 20000)\n",
    "blue_car.display()\n",
    "\n",
    "red_car = Car(color = \"red\", mileage = 30000)\n",
    "red_car.display()"
   ]
  },
  {
   "cell_type": "markdown",
   "id": "06031a11-cc0d-4dc3-864a-d1dedd20e162",
   "metadata": {},
   "source": [
    "### Solution:"
   ]
  },
  {
   "cell_type": "code",
   "execution_count": 11,
   "id": "1a816d8e-b433-4f9e-80ec-b3fcfe274c5c",
   "metadata": {
    "execution": {
     "iopub.execute_input": "2022-08-05T06:03:50.159688Z",
     "iopub.status.busy": "2022-08-05T06:03:50.159521Z",
     "iopub.status.idle": "2022-08-05T06:03:50.163350Z",
     "shell.execute_reply": "2022-08-05T06:03:50.162811Z",
     "shell.execute_reply.started": "2022-08-05T06:03:50.159674Z"
    }
   },
   "outputs": [
    {
     "name": "stdout",
     "output_type": "stream",
     "text": [
      "The blue car has 20,000 miles\n",
      "The red car has 30,000 miles\n"
     ]
    }
   ],
   "source": [
    "class Car:\n",
    "    def __init__(self, color, mileage):\n",
    "        self.color = color\n",
    "        self.mileage = mileage\n",
    "        \n",
    "blue_car = Car(color=\"blue\", mileage=20_000)\n",
    "red_car = Car(color=\"red\", mileage=30_000)\n",
    "\n",
    "#To print the color and mileage of each Car object, \n",
    "# we use loop over a tuple containing both objects\n",
    "\n",
    "for car in (blue_car, red_car):\n",
    "    print(f\"The {car.color} car has {car.mileage:,} miles\")"
   ]
  },
  {
   "cell_type": "code",
   "execution_count": null,
   "id": "065d5e6a-f063-4ff8-a3cf-8117f38ae555",
   "metadata": {},
   "outputs": [],
   "source": []
  }
 ],
 "metadata": {
  "kernelspec": {
   "display_name": "Python 3 (ipykernel)",
   "language": "python",
   "name": "python3"
  },
  "language_info": {
   "codemirror_mode": {
    "name": "ipython",
    "version": 3
   },
   "file_extension": ".py",
   "mimetype": "text/x-python",
   "name": "python",
   "nbconvert_exporter": "python",
   "pygments_lexer": "ipython3",
   "version": "3.8.10"
  }
 },
 "nbformat": 4,
 "nbformat_minor": 5
}
